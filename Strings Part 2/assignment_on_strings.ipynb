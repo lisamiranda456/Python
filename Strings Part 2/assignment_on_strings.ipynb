{
 "cells": [
  {
   "cell_type": "code",
   "execution_count": 1,
   "metadata": {},
   "outputs": [],
   "source": [
    "#program to get a string made of the first two and last two characters of a string , if the string consists of less than two \n",
    "# characters return empty string\n"
   ]
  },
  {
   "cell_type": "code",
   "execution_count": 10,
   "metadata": {},
   "outputs": [
    {
     "name": "stdout",
     "output_type": "stream",
     "text": [
      "enter a string ab\n",
      "the resulting string is  abab\n"
     ]
    }
   ],
   "source": [
    "def my_func(s1,l):\n",
    "    \n",
    "    s_first=s1[0:2]\n",
    "    s_last=s1[l-2:l+1]\n",
    "    s_res=s_first+s_last\n",
    "    return s_res\n",
    "\n",
    "s1=input(\"enter a string \")\n",
    "length=len(s1)\n",
    "if(length<2):\n",
    "    print(\" \")\n",
    "else:\n",
    "    res=my_func(s1,length)\n",
    "    print('the resulting string is ',res)"
   ]
  },
  {
   "cell_type": "code",
   "execution_count": 3,
   "metadata": {},
   "outputs": [],
   "source": [
    "#string s=\"hello how are you \" write a program to return this string without spaces"
   ]
  },
  {
   "cell_type": "code",
   "execution_count": 4,
   "metadata": {},
   "outputs": [
    {
     "name": "stdout",
     "output_type": "stream",
     "text": [
      "enter a string v f g h j \n",
      "the resulting string is  vfghj\n"
     ]
    }
   ],
   "source": [
    "def my_func1(s2):\n",
    "    s3=\"\"\n",
    "    for i in s2:\n",
    "       \n",
    "        if(i!=\" \"):\n",
    "            s3=s3+i\n",
    "        else:\n",
    "            continue\n",
    "    return s3\n",
    "            \n",
    "\n",
    "s1=input(\"enter a string \")\n",
    "res=my_func1(s1)\n",
    "print('the resulting string is ',res)\n",
    "\n"
   ]
  },
  {
   "cell_type": "code",
   "execution_count": 5,
   "metadata": {},
   "outputs": [],
   "source": [
    "#program to remove characters which have odd index values in a given string"
   ]
  },
  {
   "cell_type": "code",
   "execution_count": 6,
   "metadata": {},
   "outputs": [
    {
     "name": "stdout",
     "output_type": "stream",
     "text": [
      "enter a string bjhcbriureg\n",
      "the resulting string is  gjhcbriureb\n"
     ]
    }
   ],
   "source": [
    "#exchanging first and last characters of a string\n",
    "def my_func(s1,l):\n",
    "    \n",
    "    s_last=s1[l-1:l+1]\n",
    "    #print(s_last)\n",
    "    s_first=s1[0:1]\n",
    "    #print(s_first)\n",
    "    s_1=s1[1:l-1]\n",
    "    s_res=s_last+s_1+s_first\n",
    "    \n",
    "    return s_res\n",
    "\n",
    "s1=input(\"enter a string \")\n",
    "length=len(s1)\n",
    "res=my_func(s1,length)\n",
    "print('the resulting string is ',res)"
   ]
  },
  {
   "cell_type": "code",
   "execution_count": 12,
   "metadata": {},
   "outputs": [
    {
     "name": "stdout",
     "output_type": "stream",
     "text": [
      "enter a string hello\n",
      "the resulting string is  oellh\n"
     ]
    }
   ],
   "source": [
    "def my_func(s1,l):\n",
    "    s_res=s1[-1]+s1[1:-1]+s1[0]\n",
    "    return s_res\n",
    "s1=input(\"enter a string \")\n",
    "length=len(s1)\n",
    "res=my_func(s1,length)\n",
    "print('the resulting string is ',res)"
   ]
  },
  {
   "cell_type": "code",
   "execution_count": 8,
   "metadata": {},
   "outputs": [
    {
     "name": "stdout",
     "output_type": "stream",
     "text": [
      "enter a stringdadadadada\n",
      "the resulting string is ddddd\n"
     ]
    }
   ],
   "source": [
    "def odd_values_string(str1):\n",
    "    result = \"\" \n",
    "    for i in range(len(str1)):\n",
    "        if i % 2 == 0:\n",
    "            result = result + str1[i]\n",
    "    return result\n",
    "\n",
    "\n",
    "\n",
    "s=input(\"enter a string\")\n",
    "res=odd_values_string(s)\n",
    "print('the resulting string is',res)"
   ]
  },
  {
   "cell_type": "code",
   "execution_count": 11,
   "metadata": {},
   "outputs": [
    {
     "name": "stdout",
     "output_type": "stream",
     "text": [
      "enter a stringhello\n",
      "the resulting string is hlo\n"
     ]
    }
   ],
   "source": [
    "def odd_values_string(str1):\n",
    "    result=str1[::2]\n",
    "    return result\n",
    "s=input(\"enter a string\")\n",
    "res=odd_values_string(s)\n",
    "print('the resulting string is',res)"
   ]
  },
  {
   "cell_type": "code",
   "execution_count": 9,
   "metadata": {},
   "outputs": [],
   "source": [
    "#read a number n from the keyboard , then read n number of integers from the keyboard. create a list of all\n",
    "#those numbers.Find average and standard deviation without stat package."
   ]
  },
  {
   "cell_type": "code",
   "execution_count": 10,
   "metadata": {},
   "outputs": [
    {
     "name": "stdout",
     "output_type": "stream",
     "text": [
      "Enter number of elements : 5\n",
      "enter the 1 th element\n",
      "1\n",
      "enter the 2 th element\n",
      "2\n",
      "enter the 3 th element\n",
      "3\n",
      "enter the 4 th element\n",
      "4\n",
      "enter the 5 th element\n",
      "5\n",
      "average is 3.0\n",
      "3.0\n",
      "standard deviation is 1.4142135623730951\n"
     ]
    }
   ],
   "source": [
    "import math\n",
    "lst = [] \n",
    "def find_average(l1):\n",
    "    total=0\n",
    "    for i in range(0,len(l1)):\n",
    "        total=total+l1[i]\n",
    "        #print(l1[i])\n",
    "        l=len(l1)\n",
    "    average=total/l\n",
    "    return average\n",
    "\n",
    "def find_standard(l2,a):\n",
    "    sum_of_squares=0\n",
    "    print(a)\n",
    "    for i in range(0,len(l2)):\n",
    "        sum_of_squares=sum_of_squares+(l2[i]-a)**2\n",
    "        #print(sum_of_squares)\n",
    "    sum1=sum_of_squares/len(l2)\n",
    "    ans=math.sqrt(sum1)\n",
    "    return ans\n",
    "        \n",
    "# number of elemetns as input \n",
    "n = int(input(\"Enter number of elements : \")) \n",
    "  \n",
    "# iterating till the range \n",
    "for i in range(0, n): \n",
    "    print('enter the',i+1,'th element')\n",
    "    ele = int(input())\n",
    "  \n",
    "    lst.append(ele) # adding the element \n",
    "avg=find_average(lst)  \n",
    "print('average is',avg)\n",
    "std_dev=find_standard(lst,avg)\n",
    "print('standard deviation is',std_dev)\n",
    "#print(lst) "
   ]
  },
  {
   "cell_type": "code",
   "execution_count": 11,
   "metadata": {},
   "outputs": [
    {
     "name": "stdout",
     "output_type": "stream",
     "text": [
      "Enter number of elements : 5\n",
      "enter the 1 th element\n",
      "1\n",
      "enter the 2 th element\n",
      "2\n",
      "enter the 3 th element\n",
      "3\n",
      "enter the 4 th element\n",
      "4\n",
      "enter the 5 th element\n",
      "5\n",
      "[1, 2, 3, 4, 5]\n",
      "enter the number of rotations12\n",
      "the resulting list is [4, 5, 1, 2, 3]\n"
     ]
    }
   ],
   "source": [
    "lst=[]\n",
    "def read_input():\n",
    "    n = int(input(\"Enter number of elements : \")) \n",
    "    for i in range(0, n): \n",
    "        print('enter the',i+1,'th element')\n",
    "        ele = int(input())\n",
    "        lst.append(ele)\n",
    "    print(lst)\n",
    "\n",
    "def rotatelist(l,k):\n",
    "    if(k<0):\n",
    "        return l;\n",
    "    else:\n",
    "        for i in range(0,k):\n",
    "            x=l.pop()\n",
    "            l.insert(0,x)\n",
    "        return l\n",
    "    \n",
    "\n",
    "read_input()\n",
    "k=int(input('enter the number of rotations'))\n",
    "l_result=rotatelist(lst,k)\n",
    "print('the resulting list is',l_result)\n"
   ]
  },
  {
   "cell_type": "code",
   "execution_count": 33,
   "metadata": {},
   "outputs": [
    {
     "name": "stdout",
     "output_type": "stream",
     "text": [
      "enter a stringi love my mom and i also love gadag\n",
      "['i', 'love', 'my', 'mom', 'and', 'i', 'also', 'love', 'gadag']\n",
      "i is a palindrome\n",
      "mom is a palindrome\n",
      "i is a palindrome\n",
      "gadag is a palindrome\n"
     ]
    }
   ],
   "source": [
    "def my_palindrome(s1):\n",
    "    s_list=s1.split(\" \")\n",
    "    print(s_list)\n",
    "    for i in range(0,len(s_list)):\n",
    "        s_new=s_list[i]\n",
    "        s_new2=s_new[::-1]\n",
    "        if(s_new==s_new2):\n",
    "            print(s_new,\"is a palindrome\")\n",
    "            continue\n",
    "        else:\n",
    "            continue\n",
    "        \n",
    "s=input('enter a string')\n",
    "my_palindrome(s)"
   ]
  },
  {
   "cell_type": "code",
   "execution_count": 25,
   "metadata": {},
   "outputs": [
    {
     "name": "stdout",
     "output_type": "stream",
     "text": [
      "Enter number of elements : 3\n",
      "enter the 1 th element\n",
      "3\n",
      "enter the 2 th element\n",
      "3\n",
      "enter the 3 th element\n",
      "4\n",
      "[3, 3, 4]\n",
      "list is sorted\n"
     ]
    }
   ],
   "source": [
    "lst=[]\n",
    "def read_input():\n",
    "    n = int(input(\"Enter number of elements : \")) \n",
    "    for i in range(0, n): \n",
    "        print('enter the',i+1,'th element')\n",
    "        ele = int(input())\n",
    "        lst.append(ele)\n",
    "    print(lst)\n",
    "\n",
    "def ascending_check(l):\n",
    "    flag=0\n",
    "    length=len(l)\n",
    "    if(length!=0):\n",
    "        for i in range(1,length):\n",
    "            if(l[i-1]<=l[i]):\n",
    "                flag=1\n",
    "                continue\n",
    "            else:\n",
    "                flag=0\n",
    "                break\n",
    "        \n",
    "       \n",
    "    else:\n",
    "         flag=1\n",
    "    \n",
    "    return flag\n",
    "    \n",
    "    \n",
    "\n",
    "read_input()\n",
    "\n",
    "result=ascending_check(lst)\n",
    "if(result==1):\n",
    "    print('list is sorted')\n",
    "else:\n",
    "    print('list is not sorted')\n"
   ]
  },
  {
   "cell_type": "code",
   "execution_count": 13,
   "metadata": {},
   "outputs": [],
   "source": [
    "#Consider a string in the following format and extract only the domain name . \"from chetanahegde@ieee.org Wed\n",
    "#Feb 21 09:14:16 2018\" "
   ]
  },
  {
   "cell_type": "code",
   "execution_count": 36,
   "metadata": {},
   "outputs": [
    {
     "name": "stdout",
     "output_type": "stream",
     "text": [
      "enter a linechetanahegde@ieee.org Wed #Feb 21 09:14:16 2018\n",
      "the domain name is ieee.org \n"
     ]
    }
   ],
   "source": [
    "def my_func(s):\n",
    "    for j in range(0,len(s)):\n",
    "        if(s[j]!=\" \"):\n",
    "            continue\n",
    "        else:\n",
    "            gap=j\n",
    "            break\n",
    "    #print(j)\n",
    "    for i in range(0,len(s)):\n",
    "        if(s[i]!='@'):\n",
    "            continue\n",
    "        else:\n",
    "            index1=i\n",
    "   # print(index1)\n",
    "    domain=s[index1+1:j+1]\n",
    "   # print(domain)\n",
    "    return domain\n",
    "          \n",
    "            \n",
    "            \n",
    "s=input(\"enter a line\")\n",
    "res=my_func(s)\n",
    "print(\"the domain name is\",res)"
   ]
  },
  {
   "cell_type": "code",
   "execution_count": 37,
   "metadata": {},
   "outputs": [
    {
     "name": "stdout",
     "output_type": "stream",
     "text": [
      "enter a linechetanahegde@ieee.org Wed #Feb 21 09:14:16 2018\n",
      "the domain name is ieee.org \n"
     ]
    }
   ],
   "source": [
    "def my_func(s):\n",
    "    i=s.find('@')\n",
    "    j=s.find(' ')\n",
    "    domain=s[i+1:j+1]\n",
    "    return domain\n",
    "s=input(\"enter a line\")\n",
    "res=my_func(s)\n",
    "print(\"the domain name is\",res)"
   ]
  },
  {
   "cell_type": "code",
   "execution_count": 39,
   "metadata": {},
   "outputs": [
    {
     "name": "stdout",
     "output_type": "stream",
     "text": [
      "('h', 'e', 'l', 'l', 'o')\n"
     ]
    }
   ],
   "source": [
    "#creating a tuple using a string\n",
    "s=\"hello\"\n",
    "t=tuple(s)\n",
    "print(t)"
   ]
  },
  {
   "cell_type": "code",
   "execution_count": 40,
   "metadata": {},
   "outputs": [
    {
     "name": "stdout",
     "output_type": "stream",
     "text": [
      "(32, -3, 'hi', [5, 6], 56)\n"
     ]
    }
   ],
   "source": [
    "#creating a tuple using a list\n",
    "ls=[32,-3,'hi',[5,6],56]\n",
    "s2=tuple(ls)\n",
    "print(s2)"
   ]
  },
  {
   "cell_type": "code",
   "execution_count": 47,
   "metadata": {},
   "outputs": [
    {
     "name": "stdout",
     "output_type": "stream",
     "text": [
      "Apple\n",
      "('Apple', 'Banana')\n",
      "('Banana', 'Apple')\n"
     ]
    }
   ],
   "source": [
    "#indexing and slicing in tuples\n",
    "t=(\"Mango\",\"Apple\",\"Banana\")\n",
    "print(t[1])\n",
    "print(t[1:])\n",
    "print(t[-1:-3:-1])"
   ]
  },
  {
   "cell_type": "code",
   "execution_count": null,
   "metadata": {},
   "outputs": [],
   "source": [
    "t2=(\"Mango\",\"Apple\",\"Banana\")\n",
    "t2[0]=\"papaya\" #error #tuples are immutable\n",
    "print(t2)"
   ]
  },
  {
   "cell_type": "markdown",
   "metadata": {},
   "source": [
    "# Assignment of Tuples"
   ]
  },
  {
   "cell_type": "code",
   "execution_count": 48,
   "metadata": {},
   "outputs": [
    {
     "name": "stdout",
     "output_type": "stream",
     "text": [
      "10\n",
      "20\n",
      "hello\n",
      "3.5\n"
     ]
    }
   ],
   "source": [
    "x,y,z,p=10,20,'hello',3.5\n",
    "print(x)\n",
    "print(y)\n",
    "print(z)\n",
    "print(p)"
   ]
  },
  {
   "cell_type": "code",
   "execution_count": 52,
   "metadata": {},
   "outputs": [
    {
     "name": "stdout",
     "output_type": "stream",
     "text": [
      "10\n",
      "20\n",
      "hello\n",
      "(1, 3, 4)\n",
      "[2, 3]\n"
     ]
    }
   ],
   "source": [
    "x,y,z,p,q=10,20,'hello',(1,3,4),[2,3]\n",
    "print(x)\n",
    "print(y)\n",
    "print(z)\n",
    "print(p)\n",
    "print(q)"
   ]
  },
  {
   "cell_type": "code",
   "execution_count": 53,
   "metadata": {},
   "outputs": [
    {
     "name": "stdout",
     "output_type": "stream",
     "text": [
      "3\n",
      "4\n"
     ]
    }
   ],
   "source": [
    "#assigning list to tuple\n",
    "ls=[3,4]\n",
    "x,y=ls\n",
    "print(x)\n",
    "print(y)"
   ]
  },
  {
   "cell_type": "code",
   "execution_count": 54,
   "metadata": {},
   "outputs": [],
   "source": [
    "#suppose it was x,y=2,3,4  it would give an error"
   ]
  },
  {
   "cell_type": "code",
   "execution_count": 58,
   "metadata": {},
   "outputs": [],
   "source": [
    "#ls=[3,4,5]\n",
    "#x,y=ls\n",
    "#print(x)\n",
    "#print(y)\n",
    "#too many values to unpack\n"
   ]
  },
  {
   "cell_type": "code",
   "execution_count": 59,
   "metadata": {},
   "outputs": [
    {
     "name": "stdout",
     "output_type": "stream",
     "text": [
      "before swapping a=  10 b=  20\n",
      "after swapping a=  20 b=  10\n"
     ]
    }
   ],
   "source": [
    "#swapping of two numbers\n",
    "a=10\n",
    "b=20\n",
    "print(\"before swapping a= \",a,\"b= \",b)\n",
    "a,b=b,a\n",
    "print(\"after swapping a= \",a,\"b= \",b)"
   ]
  },
  {
   "cell_type": "code",
   "execution_count": 60,
   "metadata": {},
   "outputs": [
    {
     "name": "stdout",
     "output_type": "stream",
     "text": [
      "4\n",
      "8\n",
      "12\n",
      "16\n"
     ]
    }
   ],
   "source": [
    "arr=[[1,2,3,4],[5,6,7,8],[9,10,11,12],[13,14,15,16]]\n",
    "for i in range(0,4):\n",
    "    print(arr[i].pop())"
   ]
  },
  {
   "cell_type": "code",
   "execution_count": 4,
   "metadata": {},
   "outputs": [
    {
     "name": "stdout",
     "output_type": "stream",
     "text": [
      "[1, 2, 3, 4, 5]\n"
     ]
    }
   ],
   "source": [
    "# k rotations\n",
    "def rotatelist(ls,k):\n",
    "    mylist=ls[:]\n",
    "    for i in range(0,k):\n",
    "        mylist=[mylist[-1]]+mylist[0:-1]\n",
    "    return mylist\n",
    "\n",
    "ls1=rotatelist([1,2,3,4,5],5)\n",
    "print(ls1)"
   ]
  },
  {
   "cell_type": "code",
   "execution_count": null,
   "metadata": {},
   "outputs": [],
   "source": []
  },
  {
   "cell_type": "code",
   "execution_count": null,
   "metadata": {},
   "outputs": [],
   "source": []
  }
 ],
 "metadata": {
  "kernelspec": {
   "display_name": "Python 3",
   "language": "python",
   "name": "python3"
  },
  "language_info": {
   "codemirror_mode": {
    "name": "ipython",
    "version": 3
   },
   "file_extension": ".py",
   "mimetype": "text/x-python",
   "name": "python",
   "nbconvert_exporter": "python",
   "pygments_lexer": "ipython3",
   "version": "3.7.3"
  }
 },
 "nbformat": 4,
 "nbformat_minor": 2
}
