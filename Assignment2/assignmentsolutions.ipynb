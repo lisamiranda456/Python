{
 "cells": [
  {
   "cell_type": "markdown",
   "metadata": {},
   "source": [
    "### 1.\tCreate a dictionary IP_Count where each key-value pair is IP-Address and its frequency in the entire file.\n",
    "### For example, {“10.128.2.1”: 10, “10.131.2.1”: 12 } indicates the IP 10.128.2.1 has appeared 10 times,  10.131.2.1 appeared 12 times in the file and so on.\n"
   ]
  },
  {
   "cell_type": "code",
   "execution_count": 47,
   "metadata": {},
   "outputs": [
    {
     "name": "stdout",
     "output_type": "stream",
     "text": [
      "file opened successfully\n",
      "{'10.128.2.1': 4257, '10.131.2.1': 1626, '10.130.2.1': 4056, '10.129.2.1': 1652, '10.131.0.1': 4198}\n"
     ]
    }
   ],
   "source": [
    "#perform word count on the contents of the file\n",
    "try:\n",
    "    fhand=open('weblog.txt','r')\n",
    "    #print(fhand)\n",
    "    print(\"file opened successfully\")\n",
    "except:\n",
    "    print(\"file cannot be opened\")\n",
    "    exit()\n",
    "ls=[]    \n",
    "dic={}\n",
    "for i in fhand:\n",
    "    i=i.split(\"\\t\")[0]\n",
    "    if(i[0].isdigit()):\n",
    "        ls.append(i)\n",
    "for j in ls:\n",
    "    dic[j]=dic.get(j,0)+1\n",
    "print(dic)\n"
   ]
  },
  {
   "cell_type": "markdown",
   "metadata": {},
   "source": [
    "### 2.\tCreate a dictionary Daily_Stats where each key-value pair is Date (string containing only the date, without time) and number of actions carried out on that day.For example, {“ 29/Nov/2017”: 15, “20/Dec/2017”: 13} indicates there are 15 actions happened on 29th November 2017, 13 actions on 20th December etc.\n"
   ]
  },
  {
   "cell_type": "code",
   "execution_count": 49,
   "metadata": {},
   "outputs": [
    {
     "name": "stdout",
     "output_type": "stream",
     "text": [
      "file opened successfully\n",
      "{'29/Nov/2017': 580, '30/Nov/2017': 2991, '01/Dec/2017': 468, '02/Dec/2017': 168, '03/Dec/2017': 105, '07/Nov/2017': 2, '08/Nov/2017': 106, '09/Nov/2017': 236, '10/Nov/2017': 64, '11/Nov/2017': 286, '12/Nov/2017': 338, '13/Nov/2017': 230, '14/Nov/2017': 150, '15/Nov/2017': 78, '16/Nov/2017': 384, '17/Nov/2017': 481, '18/Nov/2017': 96, '19/Nov/2017': 164, '20/Nov/2017': 58, '21/Nov/2017': 47, '22/Nov/2017': 60, '23/Nov/2017': 380, '24/Nov/2017': 94, '25/Nov/2017': 250, '26/Nov/2017': 179, '12/Dec/2017': 86, '13/Dec/2017': 133, '14/Dec/2017': 165, '15/Dec/2017': 100, '16/Dec/2017': 155, '17/Dec/2017': 92, '18/Dec/2017': 178, '19/Dec/2017': 55, '20/Dec/2017': 98, '21/Dec/2017': 72, '22/Dec/2017': 11, '23/Dec/2017': 43, '16/Jan/2018': 76, '17/Jan/2018': 29, '18/Jan/2018': 63, '29/Jan/2018': 5092, '15/Feb/2018': 20, '16/Feb/2018': 33, '17/Feb/2018': 65, '18/Feb/2018': 34, '19/Feb/2018': 32, '20/Feb/2018': 62, '21/Feb/2018': 110, '22/Feb/2018': 231, '23/Feb/2018': 127, '24/Feb/2018': 15, '25/Feb/2018': 139, '26/Feb/2018': 98, '27/Feb/2018': 83, '28/Feb/2018': 123, '01/Mar/2018': 31, '02/Mar/2018': 143}\n"
     ]
    }
   ],
   "source": [
    "try:\n",
    "    fhand=open('weblog.txt','r')\n",
    "    #print(fhand)\n",
    "    print(\"file opened successfully\")\n",
    "except:\n",
    "    print(\"file cannot be opened\")\n",
    "    exit()\n",
    "ls=[]   \n",
    "dic={}\n",
    "for i in fhand:\n",
    "    i=i.split(\"\\t\")[1]\n",
    "    if(i[0]==\"[\"):\n",
    "        ls.append(i[1:12])\n",
    "\n",
    "for j in ls:\n",
    "    dic[j]=dic.get(j,0)+1\n",
    "print(dic)\n",
    "    \n",
    "    "
   ]
  },
  {
   "cell_type": "markdown",
   "metadata": {},
   "source": [
    "### 3.\tDisplay the URL which has been accessed (either for submit or upload) for most number of times."
   ]
  },
  {
   "cell_type": "code",
   "execution_count": 153,
   "metadata": {},
   "outputs": [
    {
     "name": "stdout",
     "output_type": "stream",
     "text": [
      "file opened successfully\n",
      "/login.php\n"
     ]
    }
   ],
   "source": [
    "import operator\n",
    "try:\n",
    "    fhand=open('weblog.txt','r')\n",
    "    #print(fhand)\n",
    "    print(\"file opened successfully\")\n",
    "except:\n",
    "    print(\"file cannot be opened\")\n",
    "    exit()\n",
    "ls=[]    \n",
    "dic={}\n",
    "for i in fhand:\n",
    "    if(i[0].isdigit()):\n",
    "        ls.append(i[20:].split(\" \")[1])\n",
    "for j in ls:\n",
    "    dic[j]=dic.get(j,0)+1\n",
    "#print(dic) \n",
    "v=list(dic.values())\n",
    "maximum=max(v)\n",
    "\n",
    "for i,j in dic.items():\n",
    "    if(j==maximum):\n",
    "        print(i)"
   ]
  },
  {
   "cell_type": "markdown",
   "metadata": {},
   "source": [
    "### 4.Display the total count of HTTP GET requests and HTTP POST requests."
   ]
  },
  {
   "cell_type": "code",
   "execution_count": 51,
   "metadata": {},
   "outputs": [
    {
     "name": "stdout",
     "output_type": "stream",
     "text": [
      "file opened successfully\n",
      "total count of http get requests  15098\n",
      "total count of http post requests 682\n"
     ]
    }
   ],
   "source": [
    "try:\n",
    "    fhand=open('weblog.txt','r')\n",
    "    #print(fhand)\n",
    "    print(\"file opened successfully\")\n",
    "except:\n",
    "    print(\"file cannot be opened\")\n",
    "    exit()\n",
    "ls=[] \n",
    "count_get=0\n",
    "count_post=0\n",
    "for i in fhand:\n",
    "    i=i.split(\"\\t\")[2].split(\" \")[0]\n",
    "    ls.append(i)\n",
    "for i in ls:\n",
    "    if(i[0]==\"G\"):\n",
    "        count_get=count_get+1\n",
    "    elif(i[0]==\"P\"):\n",
    "        count_post=count_post+1\n",
    "\n",
    "print(\"total count of http get requests \",count_get)\n",
    "print(\"total count of http post requests\",count_post)"
   ]
  },
  {
   "cell_type": "markdown",
   "metadata": {},
   "source": [
    "### 5.\tCreate a dictionary Status_Code where key is the status code, and value is a tuple consisting of a string stating meaning of the code and a number indicating the frequency of that code in the file.\n",
    "#### For example, {200:(“Success”, 53), 404: (“File Not Found”,4)} indicates 200 is the code to indicate ‘Success’, and there are 53 such transactions. \n"
   ]
  },
  {
   "cell_type": "code",
   "execution_count": 113,
   "metadata": {},
   "outputs": [
    {
     "name": "stdout",
     "output_type": "stream",
     "text": [
      "file opened successfully\n",
      "{'200': (11330, 'Success'), '302': (3498, 'Requested resource has been temporarily moved'), '304': (658, 'File Not Modified (means, no update is required)'), '206': (52, 'Partial content has been processed'), '404': (251, 'File Not Found')}\n"
     ]
    }
   ],
   "source": [
    "try:\n",
    "    fhand=open('weblog.txt','r')\n",
    "    #print(fhand)\n",
    "    print(\"file opened successfully\")\n",
    "except:\n",
    "    print(\"file cannot be opened\")\n",
    "    exit()\n",
    "ls=[] \n",
    "dic={}\n",
    "for i in fhand:\n",
    "    i=i.split(\" \")[-1].strip(\"HTTP/1.1\").strip(\"0\\t\").strip(\"\\n\")\n",
    "    if(i[0].isdigit()):\n",
    "        ls.append(i)\n",
    "\n",
    "for j in ls:\n",
    "    dic[j]=dic.get(j,0)+1\n",
    "for k,v in dic.items():\n",
    "    if(k==\"200\"):\n",
    "        dic[k]=(v,\"Success\")\n",
    "    elif(k==\"302\"):\n",
    "        dic[k]=(v,\"Requested resource has been temporarily moved\")\n",
    "    elif(k==\"304\"):\n",
    "        dic[k]=(v,\"File Not Modified (means, no update is required)\")       \n",
    "    elif(k==\"206\"):\n",
    "        dic[k]=(v,\"Partial content has been processed\")\n",
    "    elif(k==\"404\"):\n",
    "        dic[k]=(v,\"File Not Found\")\n",
    "\n",
    "print(dic)"
   ]
  },
  {
   "cell_type": "markdown",
   "metadata": {},
   "source": [
    "### 6.\tCreate a histogram (list of tuples) indicating number of actions carried out in an hour of a day. For example [(8, 12), (15, 3)] indicates, there are 12 transactions between 8am to 8:59am, there are 3 transactions between 3pm to 3:59pm (because 15 means 3pm)."
   ]
  },
  {
   "cell_type": "code",
   "execution_count": 155,
   "metadata": {},
   "outputs": [
    {
     "name": "stdout",
     "output_type": "stream",
     "text": [
      "file opened successfully\n",
      "{'20/Nov/2017': [('07', 2), ('12', 2), ('00', 1), ('05', 4), ('06', 4), ('04', 29), ('13', 16)], '13/Dec/2017': [('05', 2), ('18', 10), ('09', 4), ('14', 19), ('08', 12), ('17', 2), ('10', 2), ('01', 5), ('11', 22), ('00', 1), ('19', 4), ('21', 2), ('16', 7), ('13', 35), ('20', 4), ('02', 2)], '18/Feb/2018': [('16', 2), ('19', 32)], '20/Feb/2018': [('14', 14), ('07', 2), ('16', 3), ('11', 19), ('09', 16), ('13', 5), ('01', 3)], '17/Dec/2017': [('01', 2), ('02', 4), ('03', 2), ('08', 2), ('07', 2), ('09', 2), ('10', 2), ('18', 38), ('16', 9), ('20', 11), ('12', 5), ('04', 11), ('00', 2)], '13/Nov/2017': [('13', 70), ('00', 10), ('17', 44), ('18', 8), ('23', 8), ('10', 8), ('15', 4), ('01', 6), ('19', 8), ('14', 10), ('09', 8), ('16', 36), ('22', 2), ('05', 8)], '15/Nov/2017': [('23', 6), ('16', 2), ('00', 4), ('04', 6), ('15', 4), ('17', 4), ('08', 4), ('18', 4), ('12', 4), ('05', 4), ('21', 20), ('14', 2), ('03', 4), ('07', 6), ('09', 4)], '17/Jan/2018': [('16', 1), ('00', 8), ('02', 1), ('20', 19)], '17/Nov/2017': [('23', 7), ('16', 45), ('17', 3), ('20', 2), ('05', 110), ('11', 4), ('08', 4), ('13', 86), ('18', 58), ('04', 30), ('12', 4), ('06', 4), ('19', 38), ('15', 52), ('14', 4), ('03', 26), ('09', 4)], '29/Nov/2017': [('13', 38), ('15', 97), ('22', 10), ('07', 2), ('17', 107), ('21', 23), ('14', 42), ('16', 170), ('06', 11), ('19', 16), ('18', 64)], '12/Nov/2017': [('13', 28), ('00', 10), ('15', 12), ('02', 4), ('22', 20), ('20', 8), ('06', 6), ('19', 42), ('12', 134), ('11', 46), ('05', 28)], '03/Dec/2017': [('08', 3), ('16', 2), ('17', 1), ('19', 1), ('15', 11), ('03', 1), ('14', 57), ('10', 24), ('05', 3), ('02', 2)], '25/Nov/2017': [('04', 3), ('19', 15), ('16', 15), ('15', 47), ('21', 66), ('11', 26), ('18', 52), ('17', 26)], '12/Dec/2017': [('09', 25), ('08', 3), ('10', 2), ('16', 2), ('17', 22), ('19', 2), ('07', 10), ('11', 1), ('23', 3), ('14', 2), ('13', 14)], '19/Feb/2018': [('19', 25), ('17', 2), ('23', 2), ('12', 3)], '26/Feb/2018': [('09', 12), ('10', 2), ('16', 2), ('14', 23), ('19', 4), ('03', 29), ('06', 18), ('00', 8)], '16/Nov/2017': [('18', 10), ('20', 34), ('19', 26), ('02', 4), ('06', 2), ('17', 4), ('00', 4), ('16', 72), ('08', 4), ('22', 6), ('07', 4), ('10', 4), ('15', 202), ('23', 4), ('09', 4)], '18/Jan/2018': [('16', 18), ('12', 42), ('15', 3)], '01/Dec/2017': [('07', 65), ('16', 16), ('14', 26), ('00', 10), ('04', 21), ('22', 30), ('08', 28), ('05', 10), ('17', 5), ('13', 17), ('19', 55), ('18', 45), ('20', 4), ('06', 59), ('09', 3), ('01', 1), ('15', 36), ('10', 35), ('23', 2)], '11/Nov/2017': [('10', 2), ('08', 4), ('12', 36), ('21', 20), ('18', 2), ('16', 6), ('19', 216)], '22/Nov/2017': [('10', 14), ('23', 30), ('00', 1), ('04', 5), ('05', 4), ('14', 2), ('13', 4)], '16/Dec/2017': [('23', 5), ('20', 2), ('16', 47), ('12', 2), ('04', 4), ('00', 12), ('06', 11), ('19', 9), ('15', 18), ('21', 2), ('07', 4), ('18', 24), ('10', 5), ('13', 4), ('22', 2), ('17', 4)], '18/Dec/2017': [('21', 13), ('04', 14), ('14', 9), ('09', 1), ('08', 27), ('11', 34), ('18', 12), ('12', 10), ('13', 14), ('19', 44)], '22/Dec/2017': [('18', 11)], '23/Dec/2017': [('05', 2), ('07', 2), ('03', 3), ('04', 28), ('08', 8)], '21/Feb/2018': [('15', 12), ('20', 2), ('10', 1), ('17', 2), ('16', 2), ('18', 14), ('12', 40), ('04', 4), ('13', 1), ('05', 30), ('14', 2)], '10/Nov/2017': [('20', 2), ('08', 4), ('04', 4), ('01', 4), ('06', 8), ('03', 4), ('07', 6), ('15', 32)], '27/Feb/2018': [('22', 31), ('11', 3), ('13', 1), ('19', 9), ('18', 12), ('00', 2), ('16', 25)], '21/Nov/2017': [('09', 13), ('10', 1), ('12', 2), ('11', 2), ('20', 4), ('17', 15), ('08', 10)], '23/Nov/2017': [('20', 15), ('08', 3), ('07', 72), ('22', 2), ('13', 75), ('17', 9), ('00', 3), ('19', 44), ('18', 116), ('06', 15), ('14', 26)], '30/Nov/2017': [('17', 409), ('15', 737), ('08', 15), ('12', 374), ('13', 191), ('20', 93), ('06', 31), ('03', 10), ('19', 73), ('21', 15), ('11', 21), ('16', 574), ('09', 39), ('18', 131), ('10', 5), ('14', 229), ('07', 44)], '07/Nov/2017': [('23', 2)], '26/Nov/2017': [('21', 5), ('05', 2), ('09', 3), ('15', 1), ('19', 82), ('20', 29), ('13', 2), ('14', 2), ('22', 20), ('18', 33)], '02/Mar/2018': [('06', 54), ('14', 1), ('15', 38), ('05', 10), ('04', 40)], '20/Dec/2017': [('01', 2), ('08', 32), ('15', 13), ('02', 4), ('18', 16), ('06', 16), ('17', 15)], '16/Jan/2018': [('06', 46), ('08', 1), ('10', 1), ('07', 28)], '15/Dec/2017': [('01', 2), ('13', 17), ('17', 23), ('09', 12), ('08', 34), ('22', 5), ('19', 7)], '15/Feb/2018': [('22', 3), ('13', 1), ('17', 3), ('03', 13)], '19/Nov/2017': [('10', 1), ('06', 34), ('22', 36), ('15', 4), ('07', 3), ('20', 31), ('21', 15), ('13', 34), ('23', 3), ('05', 3)], '24/Feb/2018': [('00', 12), ('12', 2), ('16', 1)], '18/Nov/2017': [('01', 2), ('19', 2), ('05', 19), ('08', 26), ('21', 3), ('07', 30), ('06', 14)], '14/Dec/2017': [('00', 11), ('15', 22), ('02', 5), ('04', 15), ('17', 4), ('20', 32), ('12', 2), ('01', 18), ('19', 4), ('10', 11), ('13', 2), ('07', 4), ('09', 6), ('22', 2), ('05', 9), ('23', 4), ('11', 14)], '24/Nov/2017': [('15', 2), ('11', 4), ('02', 16), ('07', 3), ('17', 10), ('14', 10), ('09', 9), ('12', 4), ('13', 2), ('16', 4), ('03', 4), ('06', 16), ('08', 10)], '23/Feb/2018': [('17', 2), ('08', 15), ('13', 1), ('04', 16), ('05', 23), ('16', 12), ('23', 58)], '16/Feb/2018': [('11', 17), ('17', 1), ('19', 14), ('04', 1)], '21/Dec/2017': [('22', 32), ('15', 40)], '25/Feb/2018': [('09', 13), ('07', 1), ('14', 11), ('03', 10), ('06', 72), ('17', 17), ('13', 15)], '28/Feb/2018': [('16', 1), ('06', 10), ('15', 6), ('21', 2), ('13', 23), ('03', 40), ('20', 29), ('12', 12)], '17/Feb/2018': [('17', 14), ('15', 2), ('12', 2), ('06', 1), ('13', 12), ('20', 19), ('19', 6), ('08', 8), ('18', 1)], '01/Mar/2018': [('09', 3), ('12', 1), ('04', 7), ('11', 1), ('00', 3), ('13', 16)], '02/Dec/2017': [('19', 25), ('08', 13), ('15', 12), ('02', 4), ('06', 2), ('11', 4), ('18', 5), ('20', 3), ('13', 20), ('12', 8), ('04', 4), ('22', 1), ('16', 43), ('21', 20), ('07', 4)], '22/Feb/2018': [('07', 13), ('08', 2), ('10', 2), ('06', 99), ('15', 26), ('18', 13), ('13', 12), ('12', 31), ('14', 13), ('16', 16), ('23', 4)], '09/Nov/2017': [('10', 8), ('12', 4), ('19', 38), ('21', 6), ('22', 4), ('06', 30), ('14', 64), ('09', 6), ('20', 12), ('23', 8), ('01', 4), ('03', 4), ('17', 2), ('11', 4), ('00', 4), ('13', 10), ('08', 4), ('05', 4), ('15', 20)], '19/Dec/2017': [('21', 4), ('15', 2), ('20', 3), ('18', 5), ('23', 3), ('11', 25), ('14', 5), ('22', 2), ('16', 6)], '14/Nov/2017': [('23', 6), ('15', 2), ('18', 14), ('04', 4), ('12', 4), ('10', 4), ('20', 2), ('16', 30), ('21', 24), ('22', 14), ('00', 8), ('02', 2), ('11', 4), ('08', 4), ('03', 10), ('06', 6), ('05', 4), ('19', 4), ('14', 4)], '29/Jan/2018': [('20', 5092)], '08/Nov/2017': [('23', 2), ('11', 4), ('00', 4), ('15', 4), ('18', 36), ('19', 2), ('08', 4), ('22', 4), ('06', 6), ('01', 4), ('05', 4), ('12', 4), ('10', 4), ('20', 6), ('03', 4), ('07', 6), ('14', 4), ('17', 4)]}\n"
     ]
    }
   ],
   "source": [
    "#perform word count on the contents of the file\n",
    "def removeDuplicates(lst):\n",
    "    return[t for t in (set(tuple(i) for i in lst))]\n",
    "try:\n",
    "    fhand=open('weblog.txt','r')\n",
    "    #print(fhand)\n",
    "    print(\"file opened successfully\")\n",
    "except:\n",
    "    print(\"file cannot be opened\")\n",
    "    exit()\n",
    "ls=[]    \n",
    "dic={}\n",
    "for i in fhand:\n",
    "    i=i.split(\"\\t\")[1].strip(\"[\")\n",
    "    if(i[0].isdigit()):\n",
    "        ls.append(i)\n",
    "ls1=[]\n",
    "dic={}\n",
    "for i in ls:\n",
    "    ls1.append(i[:11])\n",
    "set1=set(ls1)\n",
    "for i in set1:\n",
    "    my_list=[]\n",
    "    d={}\n",
    "    lm=[]\n",
    "    my_new=[]\n",
    "    new_list=[]\n",
    "    for j in ls:\n",
    "        if(i==j[0:11]):\n",
    "            my_list.append(j[12:])\n",
    "    for k in my_list:\n",
    "        new_list.append(k[0:2])\n",
    "    for j in new_list:\n",
    "        my_new.append((j,new_list.count(j)))\n",
    "        my_new1=removeDuplicates(my_new)\n",
    "    \n",
    "    dic[i]=my_new1\n",
    "print(dic)    "
   ]
  },
  {
   "cell_type": "code",
   "execution_count": null,
   "metadata": {},
   "outputs": [],
   "source": []
  }
 ],
 "metadata": {
  "kernelspec": {
   "display_name": "Python 3",
   "language": "python",
   "name": "python3"
  },
  "language_info": {
   "codemirror_mode": {
    "name": "ipython",
    "version": 3
   },
   "file_extension": ".py",
   "mimetype": "text/x-python",
   "name": "python",
   "nbconvert_exporter": "python",
   "pygments_lexer": "ipython3",
   "version": "3.7.3"
  }
 },
 "nbformat": 4,
 "nbformat_minor": 2
}
