{
 "cells": [
  {
   "cell_type": "markdown",
   "metadata": {},
   "source": [
    "## Dictionary\n",
    "- Dictionary is a collection of elements in the form of key:value pair.\n",
    "- keys must be unique\n",
    "- They must be of immutable type , numbers are also treated as immuatable type.\n",
    "- value can be anything\n"
   ]
  },
  {
   "cell_type": "code",
   "execution_count": 29,
   "metadata": {},
   "outputs": [],
   "source": [
    "# To create an empty dictionary\n",
    "d={}"
   ]
  },
  {
   "cell_type": "code",
   "execution_count": 2,
   "metadata": {},
   "outputs": [],
   "source": [
    "d=dict()\n",
    "#method 2"
   ]
  },
  {
   "cell_type": "code",
   "execution_count": 3,
   "metadata": {},
   "outputs": [
    {
     "name": "stdout",
     "output_type": "stream",
     "text": [
      "<class 'dict'>\n"
     ]
    }
   ],
   "source": [
    "print(type(d))"
   ]
  },
  {
   "cell_type": "code",
   "execution_count": 4,
   "metadata": {},
   "outputs": [],
   "source": [
    "#adding elements to the dictionary d\n",
    "d[\"Banana\"]=\"fruit\"\n",
    "d[\"Cucumber\"]=\"veg\"\n",
    "d[\"Mango\"]=\"fruit\"\n"
   ]
  },
  {
   "cell_type": "code",
   "execution_count": 5,
   "metadata": {},
   "outputs": [
    {
     "name": "stdout",
     "output_type": "stream",
     "text": [
      "{'Banana': 'fruit', 'Cucumber': 'veg', 'Mango': 'fruit'}\n"
     ]
    }
   ],
   "source": [
    "print(d)"
   ]
  },
  {
   "cell_type": "code",
   "execution_count": 6,
   "metadata": {},
   "outputs": [
    {
     "name": "stdout",
     "output_type": "stream",
     "text": [
      "{'Banana': 25, 'Cucumber': 'veg', 'Mango': 'fruit'}\n"
     ]
    }
   ],
   "source": [
    "#now if we assign a value to the key value that already exits , then it wont give an error , instead it will change the value \n",
    "d[\"Banana\"]=25\n",
    "print(d)"
   ]
  },
  {
   "cell_type": "code",
   "execution_count": 7,
   "metadata": {},
   "outputs": [],
   "source": [
    "#dictionary is called as a hashable datatype , since storage does not happen in a linear or sequential order\n",
    "#thus the way we enter elements may not be same while printing them (order)"
   ]
  },
  {
   "cell_type": "code",
   "execution_count": 34,
   "metadata": {},
   "outputs": [
    {
     "data": {
      "text/plain": [
       "True"
      ]
     },
     "execution_count": 34,
     "metadata": {},
     "output_type": "execute_result"
    }
   ],
   "source": [
    "tel_dir={\"Tom\":3491,\"Jerry\":8135,\"Donald\":4793}\n",
    "\"Tom\" in tel_dir"
   ]
  },
  {
   "cell_type": "code",
   "execution_count": null,
   "metadata": {},
   "outputs": [],
   "source": [
    "#the in operator is used to check if the given key is present in the list\n"
   ]
  },
  {
   "cell_type": "code",
   "execution_count": 36,
   "metadata": {},
   "outputs": [
    {
     "name": "stdout",
     "output_type": "stream",
     "text": [
      "<class 'dict_keys'>\n"
     ]
    }
   ],
   "source": [
    "t=tel_dir.keys()\n",
    "print(type(t))"
   ]
  },
  {
   "cell_type": "code",
   "execution_count": null,
   "metadata": {},
   "outputs": [],
   "source": [
    "#here dict_keys is a data type and we cannot perform any operations on the list \n",
    "# when it is in this format , we therefore convert this to a list using the list function as follows:\n"
   ]
  },
  {
   "cell_type": "markdown",
   "metadata": {},
   "source": [
    "- keys()\n",
    "- values()\n",
    "- items()\n"
   ]
  },
  {
   "cell_type": "code",
   "execution_count": 10,
   "metadata": {},
   "outputs": [
    {
     "name": "stdout",
     "output_type": "stream",
     "text": [
      "['Tom', 'Jerry', 'Donald']\n"
     ]
    }
   ],
   "source": [
    "ls1=list(tel_dir.keys())\n",
    "print(ls1)"
   ]
  },
  {
   "cell_type": "code",
   "execution_count": 11,
   "metadata": {},
   "outputs": [
    {
     "name": "stdout",
     "output_type": "stream",
     "text": [
      "[3491, 8135, 4793]\n"
     ]
    }
   ],
   "source": [
    "ls2=list(tel_dir.values())\n",
    "print(ls2)"
   ]
  },
  {
   "cell_type": "code",
   "execution_count": 37,
   "metadata": {},
   "outputs": [
    {
     "name": "stdout",
     "output_type": "stream",
     "text": [
      "dict_items([('Tom', 3491), ('Jerry', 8135), ('Donald', 4793)])\n"
     ]
    }
   ],
   "source": [
    "items_1=tel_dir.items()\n",
    "print(items_1)"
   ]
  },
  {
   "cell_type": "code",
   "execution_count": 14,
   "metadata": {},
   "outputs": [
    {
     "name": "stdout",
     "output_type": "stream",
     "text": [
      "[('Tom', 3491), ('Jerry', 8135), ('Donald', 4793)]\n"
     ]
    }
   ],
   "source": [
    "ls3=list(tel_dir.items())\n",
    "print(ls3)"
   ]
  },
  {
   "cell_type": "code",
   "execution_count": 42,
   "metadata": {},
   "outputs": [
    {
     "name": "stdout",
     "output_type": "stream",
     "text": [
      "[('Mick', 9121), ('Jerry', 8135), ('Donald', 4793)]\n"
     ]
    }
   ],
   "source": [
    "print(ls3)"
   ]
  },
  {
   "cell_type": "code",
   "execution_count": 40,
   "metadata": {},
   "outputs": [],
   "source": [
    "#here we can access the elements and change values too\n",
    "ls3[0]=('Mick',9121)"
   ]
  },
  {
   "cell_type": "code",
   "execution_count": 41,
   "metadata": {},
   "outputs": [
    {
     "data": {
      "text/plain": [
       "9121"
      ]
     },
     "execution_count": 41,
     "metadata": {},
     "output_type": "execute_result"
    }
   ],
   "source": [
    "ls3[0][1]"
   ]
  },
  {
   "cell_type": "code",
   "execution_count": 18,
   "metadata": {},
   "outputs": [
    {
     "name": "stdout",
     "output_type": "stream",
     "text": [
      "[('Mickey', 9121), ('Jerry', 8135), ('Donald', 4793)]\n"
     ]
    }
   ],
   "source": [
    "print(ls3)"
   ]
  },
  {
   "cell_type": "code",
   "execution_count": 19,
   "metadata": {},
   "outputs": [
    {
     "data": {
      "text/plain": [
       "9121"
      ]
     },
     "execution_count": 19,
     "metadata": {},
     "output_type": "execute_result"
    }
   ],
   "source": [
    "ls3[0][1]"
   ]
  },
  {
   "cell_type": "code",
   "execution_count": 20,
   "metadata": {},
   "outputs": [
    {
     "data": {
      "text/plain": [
       "{'Banana': 25, 'Cucumber': 'veg', 'Mango': 'fruit'}"
      ]
     },
     "execution_count": 20,
     "metadata": {},
     "output_type": "execute_result"
    }
   ],
   "source": [
    "d"
   ]
  },
  {
   "cell_type": "code",
   "execution_count": 21,
   "metadata": {},
   "outputs": [
    {
     "data": {
      "text/plain": [
       "{'Tom': 3491, 'Jerry': 8135, 'Donald': 4793}"
      ]
     },
     "execution_count": 21,
     "metadata": {},
     "output_type": "execute_result"
    }
   ],
   "source": [
    "tel_dir"
   ]
  },
  {
   "cell_type": "code",
   "execution_count": null,
   "metadata": {},
   "outputs": [],
   "source": [
    "#using get() function"
   ]
  },
  {
   "cell_type": "code",
   "execution_count": 22,
   "metadata": {},
   "outputs": [
    {
     "name": "stdout",
     "output_type": "stream",
     "text": [
      "25\n",
      "not found\n"
     ]
    }
   ],
   "source": [
    "students={\"Tom\":24,\"Jerry\":25,\"Donald\":21}\n",
    "print(students.get(\"Jerry\",0))\n",
    "#as Jerry is present in the dictionary it will give the value 25 , if it was not present it would give 0\n",
    "print(students.get(\"Mickey\",\"not found\"))"
   ]
  },
  {
   "cell_type": "code",
   "execution_count": 23,
   "metadata": {},
   "outputs": [],
   "source": [
    "#Write a program to read a string . Count number of occurences of each character in the string . Use dictionary.\n",
    "# Example input string is \"Hello\"\n",
    "#then output must be {'h':1,'e':1,'l':2,'o':1}"
   ]
  },
  {
   "cell_type": "code",
   "execution_count": 24,
   "metadata": {},
   "outputs": [
    {
     "name": "stdout",
     "output_type": "stream",
     "text": [
      "Enter the stringHello\n",
      "{'H': 1, 'e': 1, 'l': 2, 'o': 1}\n"
     ]
    }
   ],
   "source": [
    "d={}\n",
    "sen=input(\"Enter the string\")\n",
    "for i in sen:\n",
    "    num=sen.count(i)\n",
    "    d[i]=num\n",
    "print(d)\n"
   ]
  },
  {
   "cell_type": "code",
   "execution_count": 25,
   "metadata": {},
   "outputs": [
    {
     "name": "stdout",
     "output_type": "stream",
     "text": [
      "key is : Tom value is : 3491\n",
      "key is : Jerry value is : 8135\n",
      "key is : Donald value is : 4793\n"
     ]
    }
   ],
   "source": [
    "#another usage of items() function\n",
    "for k,v in tel_dir.items():\n",
    "    print(\"key is :\",k,\"value is :\",v )\n",
    "    "
   ]
  },
  {
   "cell_type": "code",
   "execution_count": 26,
   "metadata": {},
   "outputs": [
    {
     "name": "stdout",
     "output_type": "stream",
     "text": [
      "enter the stringHello\n",
      "final dictionary : {'H': 1, 'e': 1, 'l': 2, 'o': 1}\n"
     ]
    }
   ],
   "source": [
    "#method2\n",
    "d={}\n",
    "s=input(\"enter the string\")\n",
    "for ch in s:\n",
    "    d[ch]=d.get(ch,0)+1\n",
    "print(\"final dictionary :\",d)"
   ]
  },
  {
   "cell_type": "code",
   "execution_count": 27,
   "metadata": {},
   "outputs": [],
   "source": [
    "#read a sentence\n",
    "#Count the length of each word in that sentence.\n",
    "#Display all the words in the descending order of their length in the form of list\n"
   ]
  },
  {
   "cell_type": "code",
   "execution_count": 6,
   "metadata": {},
   "outputs": [
    {
     "name": "stdout",
     "output_type": "stream",
     "text": [
      "enter a stringIndia is a great country, karnataka is one of its states\n",
      "['karnataka', 'country,', 'states', 'great', 'India', 'one', 'its', 'of', 'is', 'is', 'a']\n"
     ]
    }
   ],
   "source": [
    "txt=input(\"enter a string\")\n",
    "words=txt.split(\" \")\n",
    "t=list()\n",
    "for word in words:\n",
    "    t.append((len(word),word))\n",
    "    \n",
    "t.sort(reverse=True)\n",
    "res=list()\n",
    "for length,word in t:\n",
    "    res.append(word)\n",
    "    \n",
    "print(res)\n",
    "\n",
    "        \n",
    "    \n",
    "    \n",
    "\n",
    "\n",
    "\n",
    "    "
   ]
  },
  {
   "cell_type": "code",
   "execution_count": 28,
   "metadata": {},
   "outputs": [],
   "source": [
    "?list.sort"
   ]
  },
  {
   "cell_type": "code",
   "execution_count": 9,
   "metadata": {},
   "outputs": [
    {
     "name": "stdout",
     "output_type": "stream",
     "text": [
      "enter a stringIndia is a great country, karnataka is one of its states\n",
      "['karnataka', 'country,', 'states', 'India', 'great', 'one', 'its', 'is', 'is', 'of', 'a']\n"
     ]
    }
   ],
   "source": [
    "txt=input(\"enter a string\")\n",
    "words=txt.split(\" \")\n",
    "words.sort(key=len,reverse=True)\n",
    "print(words)\n",
    "#here we are sorting based on a parameter called length of the word"
   ]
  },
  {
   "cell_type": "markdown",
   "metadata": {},
   "source": [
    "## Sets"
   ]
  },
  {
   "cell_type": "code",
   "execution_count": 43,
   "metadata": {},
   "outputs": [],
   "source": [
    "#sets are also hashable types"
   ]
  },
  {
   "cell_type": "code",
   "execution_count": 44,
   "metadata": {},
   "outputs": [
    {
     "name": "stdout",
     "output_type": "stream",
     "text": [
      "<class 'set'>\n"
     ]
    }
   ],
   "source": [
    "#defining a set\n",
    "st=set()\n",
    "print(type(st))"
   ]
  },
  {
   "cell_type": "code",
   "execution_count": 53,
   "metadata": {},
   "outputs": [
    {
     "name": "stdout",
     "output_type": "stream",
     "text": [
      "<class 'set'>\n"
     ]
    }
   ],
   "source": [
    "st1={\"lll\"}\n",
    "print(type(st1))"
   ]
  },
  {
   "cell_type": "code",
   "execution_count": 45,
   "metadata": {},
   "outputs": [
    {
     "name": "stdout",
     "output_type": "stream",
     "text": [
      "<class 'set'>\n"
     ]
    }
   ],
   "source": [
    "#creating a simple set\n",
    "st={\"Apple\",\"Banana\",\"Orange\"}\n",
    "print(type(st))"
   ]
  },
  {
   "cell_type": "code",
   "execution_count": 46,
   "metadata": {},
   "outputs": [
    {
     "name": "stdout",
     "output_type": "stream",
     "text": [
      "{'Banana', 'Apple', 'Orange'}\n"
     ]
    }
   ],
   "source": [
    "print(st)"
   ]
  },
  {
   "cell_type": "code",
   "execution_count": 59,
   "metadata": {},
   "outputs": [
    {
     "data": {
      "text/plain": [
       "{(66, 99), '66', 66, 'Apple', 'Banana', 'Orange'}"
      ]
     },
     "execution_count": 59,
     "metadata": {},
     "output_type": "execute_result"
    }
   ],
   "source": [
    "#adding an element to a set\n",
    "st.add('66')\n",
    "st"
   ]
  },
  {
   "cell_type": "code",
   "execution_count": 51,
   "metadata": {},
   "outputs": [
    {
     "name": "stdout",
     "output_type": "stream",
     "text": [
      "{'Banana', 'Apple', 'Orange'}\n"
     ]
    }
   ],
   "source": [
    "#a set does not contain duplicate elements as compared to a list\n",
    "#to remove an element from a list\n",
    "st.remove(\"Cherry\")\n",
    "print(st)"
   ]
  },
  {
   "cell_type": "code",
   "execution_count": 63,
   "metadata": {},
   "outputs": [
    {
     "name": "stdout",
     "output_type": "stream",
     "text": [
      "{'66', 66, 'P', 'C1', 'Apple', 'Papaya', 'Orange', 'C', 'Banana', 'Cherry', (66, 99), 'P1'}\n"
     ]
    }
   ],
   "source": [
    "#adding more than one element at a time\n",
    "st.update({\"C1\",\"P1\"})\n",
    "print(st)"
   ]
  },
  {
   "cell_type": "code",
   "execution_count": 19,
   "metadata": {},
   "outputs": [
    {
     "name": "stdout",
     "output_type": "stream",
     "text": [
      "{'Apple', 'Orange', 'Banana'}\n"
     ]
    }
   ],
   "source": [
    "#sets do not allow duplication of data elements\n",
    "st={\"Apple\",\"Banana\",\"Orange\",\"Banana\"}\n",
    "print(st)"
   ]
  },
  {
   "cell_type": "code",
   "execution_count": 21,
   "metadata": {},
   "outputs": [],
   "source": [
    "# st[0] set object is not subscriptable"
   ]
  },
  {
   "cell_type": "code",
   "execution_count": 22,
   "metadata": {},
   "outputs": [
    {
     "name": "stdout",
     "output_type": "stream",
     "text": [
      "[1, 3, 4, 5, 6, 7, 21]\n"
     ]
    }
   ],
   "source": [
    "#Write a program to eliminate repeated entries in a list and keep single copy of each element\n",
    "ls=[1,3,21,1,1,1,3,3,4,5,6,7,7]\n",
    "ls1=list(set(ls))\n",
    "print(ls1)"
   ]
  },
  {
   "cell_type": "markdown",
   "metadata": {},
   "source": [
    "# Lambda Function\n",
    "- Functions without name.\n",
    "- Simple functions where the task to be carried out is small.\n",
    "- can take arguments"
   ]
  },
  {
   "cell_type": "code",
   "execution_count": 1,
   "metadata": {},
   "outputs": [
    {
     "name": "stdout",
     "output_type": "stream",
     "text": [
      "15\n"
     ]
    }
   ],
   "source": [
    "#simple example of lambda function\n",
    "x=lambda a : a+10\n",
    "print(x(5))"
   ]
  },
  {
   "cell_type": "code",
   "execution_count": 6,
   "metadata": {},
   "outputs": [
    {
     "name": "stdout",
     "output_type": "stream",
     "text": [
      "6\n",
      "-6\n"
     ]
    }
   ],
   "source": [
    "#lambda function with 2 arguments\n",
    "x=lambda a,b :a*b\n",
    "print(x(2,3))\n",
    "print(x(2,-3))\n"
   ]
  },
  {
   "cell_type": "code",
   "execution_count": 7,
   "metadata": {},
   "outputs": [
    {
     "name": "stdout",
     "output_type": "stream",
     "text": [
      "[5, 3, 97, 77, 23, 73, 61]\n"
     ]
    }
   ],
   "source": [
    "#lambda function with filter() to get only even numbers\n",
    "#filter function takes two arguments 1. lambda function, 2.list or input data\n",
    "ls=[5,3,32,97,54,62,77,23,73,61]\n",
    "final_list=list(filter(lambda x:(x%2!=0),ls))\n",
    "print(final_list)"
   ]
  },
  {
   "cell_type": "code",
   "execution_count": 8,
   "metadata": {},
   "outputs": [],
   "source": [
    "#the filter functions keeps only those values that satisfy the condition given in lambda, rest elements are discarded\n"
   ]
  },
  {
   "cell_type": "code",
   "execution_count": 13,
   "metadata": {},
   "outputs": [
    {
     "name": "stdout",
     "output_type": "stream",
     "text": [
      "Enter a stringhi how are you\n",
      "['hi', 'how', 'are', 'you']\n",
      "['how', 'are', 'you']\n"
     ]
    }
   ],
   "source": [
    "#extract the words from a string those having length as 3\n",
    "sen=input(\"Enter a string\")\n",
    "ls=sen.split(\" \")\n",
    "print(ls)\n",
    "final_list=list(filter(lambda x:len(x)==3,ls))\n",
    "print(final_list)\n"
   ]
  },
  {
   "cell_type": "code",
   "execution_count": 14,
   "metadata": {},
   "outputs": [
    {
     "name": "stdout",
     "output_type": "stream",
     "text": [
      "Enter a stringhi how are you\n",
      "['hi', 'how', 'are', 'you']\n",
      "['hi', 'how']\n"
     ]
    }
   ],
   "source": [
    "#extract the words from a string that are starting with \"h\"\n",
    "sen=input(\"Enter a string\")\n",
    "ls=sen.split(\" \")\n",
    "print(ls)\n",
    "final_list=list(filter(lambda x:x[0]=='h',ls))\n",
    "print(final_list)"
   ]
  },
  {
   "cell_type": "code",
   "execution_count": 16,
   "metadata": {},
   "outputs": [],
   "source": [
    "#the second argument for the filter function must be an iterable object"
   ]
  },
  {
   "cell_type": "markdown",
   "metadata": {},
   "source": [
    "# Map function"
   ]
  },
  {
   "cell_type": "code",
   "execution_count": 18,
   "metadata": {},
   "outputs": [
    {
     "name": "stdout",
     "output_type": "stream",
     "text": [
      "[10, 6, 64, 194, 108, 124, 154, 46, 146, 122]\n"
     ]
    }
   ],
   "source": [
    "ls=[5,3,32,97,54,62,77,23,73,61]\n",
    "final_list=list(map(lambda x: x*2,ls))\n",
    "print(final_list)"
   ]
  },
  {
   "cell_type": "code",
   "execution_count": 23,
   "metadata": {},
   "outputs": [
    {
     "name": "stdout",
     "output_type": "stream",
     "text": [
      "varience is : 909.8900000000001\n"
     ]
    }
   ],
   "source": [
    "#finding varience and standard deviation\n",
    "ls=[5,7,22,97,54,62,77,23,73,61]\n",
    "total=sum(ls)\n",
    "avg=total/len(ls)\n",
    "\n",
    "final_list=list(map(lambda x:(x-avg)**2 ,ls))\n",
    "total1=sum(final_list)\n",
    "var=total1/len(final_list)\n",
    "print(\"varience is :\",var)\n",
    "\n"
   ]
  },
  {
   "cell_type": "code",
   "execution_count": 24,
   "metadata": {},
   "outputs": [],
   "source": [
    "#lambda function with reduce"
   ]
  },
  {
   "cell_type": "code",
   "execution_count": 25,
   "metadata": {},
   "outputs": [],
   "source": [
    "from functools import reduce"
   ]
  },
  {
   "cell_type": "code",
   "execution_count": 26,
   "metadata": {},
   "outputs": [
    {
     "name": "stdout",
     "output_type": "stream",
     "text": [
      "193\n"
     ]
    }
   ],
   "source": [
    "ls=[5,8,10,20,50,100]\n",
    "total=reduce((lambda x,y :x+y),ls)\n",
    "print(total)"
   ]
  },
  {
   "cell_type": "code",
   "execution_count": 27,
   "metadata": {},
   "outputs": [
    {
     "name": "stdout",
     "output_type": "stream",
     "text": [
      "hihellohowareyou\n"
     ]
    }
   ],
   "source": [
    "ls=[\"hi\",\"hello\",\"how\",\"are\",\"you\"]\n",
    "total=reduce((lambda x,y :x+y),ls)\n",
    "print(total)"
   ]
  },
  {
   "cell_type": "code",
   "execution_count": 28,
   "metadata": {},
   "outputs": [],
   "source": [
    "#write a python function histogram(ls) that takes as input a list of integers with repetitions and returns a list of pairs \n",
    "#as follows\n",
    "#for each number n that appears in ls, there should be exactly one pair(n,r) in the list returned by the function, where r is\n",
    "#the number of repetitions of n in ls.\n",
    "#the final list should be sorted in ascending order by r, the number of repetitions. For numbers that occur with the same number\n",
    "#of repetitions , arrange the pairs in ascending order of the value of the number\n",
    "\n"
   ]
  },
  {
   "cell_type": "code",
   "execution_count": 60,
   "metadata": {},
   "outputs": [
    {
     "name": "stdout",
     "output_type": "stream",
     "text": [
      "Enter the number of elements20\n",
      "1\n",
      "2\n",
      "3\n",
      "4\n",
      "5\n",
      "5\n",
      "4\n",
      "3\n",
      "3\n",
      "4\n",
      "5\n",
      "5\n",
      "4\n",
      "3\n",
      "6\n",
      "6\n",
      "7\n",
      "8\n",
      "8\n",
      "8\n",
      "without sorting [(1, 1), (2, 1), (3, 4), (4, 4), (5, 4), (6, 2), (7, 1), (8, 3)]\n",
      "with sorting [(1, 1), (2, 1), (7, 1), (6, 2), (8, 3), (3, 4), (4, 4), (5, 4)]\n"
     ]
    }
   ],
   "source": [
    "\n",
    "def histogram(ls):\n",
    "    dic={}\n",
    "    for i in ls:\n",
    "        num=ls.count(i)\n",
    "        dic[i]=num\n",
    "    #print(dic)\n",
    "    ls2=[]\n",
    "    for k,v in dic.items():\n",
    "        ls2.append((k,v))\n",
    "    print(\"without sorting\",ls2)\n",
    "    #ls2.sort(key=lambda x: x[1])\n",
    "    ls2.sort(key =lambda sl: ((sl[1],sl[0])))\n",
    "    print(\"with sorting\",ls2)\n",
    "   \n",
    "        \n",
    "        \n",
    "ls1=[]\n",
    "num=int(input(\"Enter the number of elements\"))\n",
    "for i in range(0,num):\n",
    "    ele=int(input())\n",
    "    ls1.append(ele)\n",
    "#print(\"the list is :\",ls1)\n",
    "histogram(ls1)"
   ]
  },
  {
   "cell_type": "markdown",
   "metadata": {},
   "source": [
    "###### "
   ]
  }
 ],
 "metadata": {
  "kernelspec": {
   "display_name": "Python 3",
   "language": "python",
   "name": "python3"
  },
  "language_info": {
   "codemirror_mode": {
    "name": "ipython",
    "version": 3
   },
   "file_extension": ".py",
   "mimetype": "text/x-python",
   "name": "python",
   "nbconvert_exporter": "python",
   "pygments_lexer": "ipython3",
   "version": "3.7.3"
  }
 },
 "nbformat": 4,
 "nbformat_minor": 2
}
