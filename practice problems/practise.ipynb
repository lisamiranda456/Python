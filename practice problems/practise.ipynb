{
 "cells": [
  {
   "cell_type": "markdown",
   "metadata": {},
   "source": [
    "### Write a program which will find all such numbers which are divisible by 7 but are not a multiple of 5 between given ranges"
   ]
  },
  {
   "cell_type": "code",
   "execution_count": null,
   "metadata": {},
   "outputs": [],
   "source": [
    "def my_func1(u,l):\n",
    "    for i in range(l,u+1):\n",
    "        if((i%7)==0):\n",
    "            if((i%5)!=0):\n",
    "                print(i)\n",
    "\n",
    "up_range=int(input(\"enter the upper range\"))\n",
    "low_range=int(input(\"enter the lower range\"))\n",
    "my_func1(up_range,low_range)\n"
   ]
  },
  {
   "cell_type": "markdown",
   "metadata": {},
   "source": [
    "### Write a program that accepts a sequence of comma-separated numbers from console and generates a list and a tuple which contains every number."
   ]
  },
  {
   "cell_type": "code",
   "execution_count": null,
   "metadata": {},
   "outputs": [],
   "source": [
    "num=input()\n",
    "ls=num.split(\",\")\n",
    "tu=tuple(ls)\n",
    "print('the list is ',ls)\n",
    "print('the tuple is ',tu)"
   ]
  },
  {
   "cell_type": "markdown",
   "metadata": {},
   "source": [
    "### Write a program that calculates and prints the value according to the given formula: Q=square root[(2*C*D)/H]\n",
    "### Following are the fixed values of C and H:\n",
    "### C is 50 and H is 30\n",
    "### D is the variable whose values should be input to your program in a comma separated sequence.\n"
   ]
  },
  {
   "cell_type": "code",
   "execution_count": null,
   "metadata": {},
   "outputs": [],
   "source": [
    "import math\n",
    "D=input()\n",
    "N=[]\n",
    "new_list=[]\n",
    "l1=D.split(\",\")\n",
    "print(l1)\n",
    "for i in range(len(l1)):\n",
    "    n=int(l1[i])\n",
    "    new_list.append(n)\n",
    "print(new_list)\n",
    "C=50\n",
    "H=30\n",
    "for i in new_list:\n",
    "    new=math.sqrt((2*C*i)/H)\n",
    "    N.append(new)\n",
    "print(N)\n",
    "    \n",
    "    "
   ]
  },
  {
   "cell_type": "markdown",
   "metadata": {},
   "source": [
    "### Write a program which takes 2 digits, X and Y as input and generates a 2-dimensional array.The element in the ith row and jth columnof the array should be i*j"
   ]
  },
  {
   "cell_type": "markdown",
   "metadata": {},
   "source": [
    "### write a program that accepts input as a set of comma sepated values and returns the output as a comma sepated list after sorting them in alphabetical order"
   ]
  },
  {
   "cell_type": "code",
   "execution_count": null,
   "metadata": {},
   "outputs": [],
   "source": [
    "i=input()\n",
    "ls=[]\n",
    "ls=i.split(',')\n",
    "print(\"before sorting, \",ls)\n",
    "ls.sort()\n",
    "print(\"after sorting ,\",ls)\n",
    "    "
   ]
  },
  {
   "cell_type": "markdown",
   "metadata": {},
   "source": [
    "### Write a program which accepts a sequence of comma separated 4 digit binary numbers as its input and then check whether they are divisible by 5 or not . The numbers that are divisible by 5 are too be printed in a comma separated sequence.\n"
   ]
  },
  {
   "cell_type": "code",
   "execution_count": null,
   "metadata": {},
   "outputs": [],
   "source": [
    "i=input()\n",
    "ls=[]\n",
    "ls1=[]\n",
    "items=i.split(\",\")\n",
    "for j in items:\n",
    "    new=int(j)\n",
    "    #print(type(new))\n",
    "    ls.append(new)\n",
    "#print(type(ls[1]))\n",
    "\n",
    "for j in ls:\n",
    "    new=bin(j)\n",
    "    ls1.append(new)\n",
    "\n",
    "for i in ls1:\n",
    "    deci=int(i,2)\n",
    "    \n",
    "    if(deci%5==0):\n",
    "        print(deci)\n",
    "\n"
   ]
  },
  {
   "cell_type": "code",
   "execution_count": null,
   "metadata": {},
   "outputs": [],
   "source": [
    "a=79\n",
    "bin_a=bin(a)\n",
    "print(bin_a)\n",
    "print(int(bin_a,2))"
   ]
  },
  {
   "cell_type": "markdown",
   "metadata": {},
   "source": [
    "### Write a program ,which will find all such numbers between 1000 and 3000 (both included)such that each digit of the number ia an even number. The numbers obtained should be printed in a comma-separated sequence on a single -line .\n"
   ]
  },
  {
   "cell_type": "code",
   "execution_count": 1,
   "metadata": {},
   "outputs": [
    {
     "name": "stdout",
     "output_type": "stream",
     "text": [
      "Enter the lower range value1000\n",
      "Enter the upper range value3000\n",
      "['2000', '2002', '2004', '2006', '2008', '2020', '2022', '2024', '2026', '2028', '2040', '2042', '2044', '2046', '2048', '2060', '2062', '2064', '2066', '2068', '2080', '2082', '2084', '2086', '2088', '2200', '2202', '2204', '2206', '2208', '2220', '2222', '2224', '2226', '2228', '2240', '2242', '2244', '2246', '2248', '2260', '2262', '2264', '2266', '2268', '2280', '2282', '2284', '2286', '2288', '2400', '2402', '2404', '2406', '2408', '2420', '2422', '2424', '2426', '2428', '2440', '2442', '2444', '2446', '2448', '2460', '2462', '2464', '2466', '2468', '2480', '2482', '2484', '2486', '2488', '2600', '2602', '2604', '2606', '2608', '2620', '2622', '2624', '2626', '2628', '2640', '2642', '2644', '2646', '2648', '2660', '2662', '2664', '2666', '2668', '2680', '2682', '2684', '2686', '2688', '2800', '2802', '2804', '2806', '2808', '2820', '2822', '2824', '2826', '2828', '2840', '2842', '2844', '2846', '2848', '2860', '2862', '2864', '2866', '2868', '2880', '2882', '2884', '2886', '2888']\n"
     ]
    }
   ],
   "source": [
    "n1=int(input(\"Enter the lower range value\"))\n",
    "n2=int(input(\"Enter the upper range value\"))\n",
    "flag=1\n",
    "ls=[]\n",
    "j=0\n",
    "for i in range(n1,n2+1):\n",
    "    num=str(i)\n",
    "    if(int(num[0])%2==0 and int(num[1])%2==0 and int(num[2])%2==0 and int(num[3])%2==0):\n",
    "        ls.append(num)\n",
    "print(ls)    "
   ]
  },
  {
   "cell_type": "markdown",
   "metadata": {},
   "source": [
    "### Write a program thats accepts a sentence and calculates the number of letters and digits."
   ]
  },
  {
   "cell_type": "code",
   "execution_count": 3,
   "metadata": {},
   "outputs": [
    {
     "name": "stdout",
     "output_type": "stream",
     "text": [
      "enter a sentence123bhfjer\n",
      "the number of digits are : 3\n",
      "the number of characters are : 6\n"
     ]
    }
   ],
   "source": [
    "sentence=input(\"enter a sentence\")\n",
    "cha=0\n",
    "dig=0\n",
    "for i in sentence:\n",
    "    if(i.isdigit()==True):\n",
    "        dig=dig+1\n",
    "    else:\n",
    "        cha=cha+1\n",
    "print(\"the number of digits are :\",dig)\n",
    "print(\"the number of characters are :\",cha)"
   ]
  },
  {
   "cell_type": "markdown",
   "metadata": {},
   "source": [
    "### Write a program that accepts a sentence and calculates the number of uppercase and lower case letters."
   ]
  },
  {
   "cell_type": "code",
   "execution_count": 6,
   "metadata": {},
   "outputs": [
    {
     "name": "stdout",
     "output_type": "stream",
     "text": [
      "enter a sentenceLISA lisa\n",
      "the number of upper case letters are : 4\n",
      "the number of lower case letters are : 4\n"
     ]
    }
   ],
   "source": [
    "sentence=input(\"enter a sentence\")\n",
    "up=0\n",
    "low=0\n",
    "for i in sentence:\n",
    "    if(i.isupper()==True):\n",
    "        up=up+1\n",
    "    elif(i.islower()==True):\n",
    "        low=low+1\n",
    "    else:\n",
    "        continue\n",
    "print(\"the number of upper case letters are :\",up)\n",
    "print(\"the number of lower case letters are :\",low)\n",
    "\n"
   ]
  },
  {
   "cell_type": "markdown",
   "metadata": {},
   "source": [
    "### Write a program that computes the value of a+aa+aaa+aaaa with a given digit as the value of a ."
   ]
  },
  {
   "cell_type": "code",
   "execution_count": 7,
   "metadata": {},
   "outputs": [
    {
     "name": "stdout",
     "output_type": "stream",
     "text": [
      "enter the number9\n",
      "11106\n"
     ]
    }
   ],
   "source": [
    "num=int(input(\"enter the number\"))\n",
    "num1=num\n",
    "num2=num*10+num\n",
    "num3=num2*10+num\n",
    "num4=num3*10+num\n",
    "total=num1+num2+num3+num4\n",
    "print(total)"
   ]
  },
  {
   "cell_type": "markdown",
   "metadata": {},
   "source": [
    "### Write a program that computes the net amount of a bank account based on a transaction log from console input\n",
    "### D 100\n",
    "### W 200\n",
    "### where D means deposit and W means withdrawal"
   ]
  },
  {
   "cell_type": "code",
   "execution_count": 10,
   "metadata": {},
   "outputs": [
    {
     "name": "stdout",
     "output_type": "stream",
     "text": [
      "D 300,D 300,W 200,D 100\n",
      "500\n"
     ]
    }
   ],
   "source": [
    "input1=input()\n",
    "ls=input1.split(\",\")\n",
    "amount=0\n",
    "for i in ls:\n",
    "    a=i[1:len(i)+1]\n",
    "    if(i[0]=='D'):\n",
    "        \n",
    "        amount=amount+int(a)\n",
    "    else :\n",
    "        \n",
    "        amount=amount-int(a)\n",
    "print(amount)"
   ]
  },
  {
   "cell_type": "markdown",
   "metadata": {},
   "source": [
    "### A website requires the users to input username and password to register. Write a program to check the validity of the password input by users.Follwing are the criteria.\n",
    "### 1. atleast 1 letter between [a-z]\n",
    "### 2. atleast 1 number between [0-9]\n",
    "### 3. atleast 1 letter between [A-Z]\n",
    "### 4.atleast 1 character from between [#$@]\n",
    "\n"
   ]
  },
  {
   "cell_type": "markdown",
   "metadata": {},
   "source": [
    "### You are required to write a program to sort the (name,age,height) tuples by ascending order where name is string, age and height are numbers. The sort criteria are:\n",
    "### 1. sort based on name.\n",
    "### 2. then sort based on age\n",
    "### 3. then sort based on height"
   ]
  },
  {
   "cell_type": "markdown",
   "metadata": {},
   "source": [
    "### A robot moves in a plane starting from the original point (0,0). The robot can move towards UP,DOWN,LEFT and RIGHT  with given number of steps. The trace of robot movement is shown as the following:\n",
    "### UP 5\n",
    "### DOWN 3\n",
    "### LEFT 3\n",
    "### RIGHT 3\n"
   ]
  },
  {
   "cell_type": "markdown",
   "metadata": {},
   "source": [
    "### Assuming that we all have email addresses in the form \"username@companyname.com\" format .Write a program to print the username from the given email address"
   ]
  },
  {
   "cell_type": "markdown",
   "metadata": {},
   "source": [
    "### Assuming that we all have email addresses in the form \"username@companyname.com\" format .Write a program to print the company name from the given email address"
   ]
  },
  {
   "cell_type": "markdown",
   "metadata": {},
   "source": [
    "### Write a program to compute 1/2+2/3+3/4+........+n/n+1 with a given n input by console(n>0)\n"
   ]
  },
  {
   "cell_type": "markdown",
   "metadata": {},
   "source": [
    "### Write a program to compute f(n)=f(n-1) +100 when n>0\n",
    "### given f(0)=1"
   ]
  },
  {
   "cell_type": "markdown",
   "metadata": {},
   "source": [
    "### Fibonacci sequence for a number"
   ]
  },
  {
   "cell_type": "markdown",
   "metadata": {},
   "source": [
    "### Write a program that accepts basic mathematic expressions from console and then print the evaluation result."
   ]
  },
  {
   "cell_type": "markdown",
   "metadata": {},
   "source": [
    "### binary search function to search a given element in a list"
   ]
  },
  {
   "cell_type": "markdown",
   "metadata": {},
   "source": [
    "### write a program to generate all sentences where subject is in [\"I\",\"You\"] and vern is in [\"play\", \"love\"] and the object is in [\"Hockey\",\"Football\"]\n"
   ]
  },
  {
   "cell_type": "markdown",
   "metadata": {},
   "source": [
    "### print the output list after removing all the elements that are divisible by 5 and 7"
   ]
  },
  {
   "cell_type": "markdown",
   "metadata": {},
   "source": [
    "### By using list comprehension, please write a program to generate 3*5*8 3D array whose each element is 0.\n"
   ]
  },
  {
   "cell_type": "markdown",
   "metadata": {},
   "source": [
    "### finding the intersection of two lists"
   ]
  },
  {
   "cell_type": "code",
   "execution_count": null,
   "metadata": {},
   "outputs": [],
   "source": [
    "T = int(input())\n",
    "for i in range(T):\n",
    "    row=input()\n",
    "    print(row)\n",
    "\n",
    "\n"
   ]
  },
  {
   "cell_type": "code",
   "execution_count": null,
   "metadata": {},
   "outputs": [],
   "source": []
  }
 ],
 "metadata": {
  "kernelspec": {
   "display_name": "Python 3",
   "language": "python",
   "name": "python3"
  },
  "language_info": {
   "codemirror_mode": {
    "name": "ipython",
    "version": 3
   },
   "file_extension": ".py",
   "mimetype": "text/x-python",
   "name": "python",
   "nbconvert_exporter": "python",
   "pygments_lexer": "ipython3",
   "version": "3.7.3"
  }
 },
 "nbformat": 4,
 "nbformat_minor": 2
}
