{
 "cells": [
  {
   "cell_type": "markdown",
   "metadata": {},
   "source": [
    "### 1.Given a string of odd length greater than 7 , return a string made of the middle three characters .\n",
    "### 2.Given two strings s1 and s2 , create a new string by appending s2 in the middle of s1.\n",
    "### 3.Given 2 strings s1 and s2, return a new string made of the first , middle and last character of each input string. :\"america\" ,\"japan\" ans =ajrpan\n",
    "### 4. arrange string characters such that lower characters should come first\n",
    "### 5.Given a string count all lower case, upper case, digits and special symbols.\n",
    "### 6.Find all occurrences of USA in a given string ignoring the case.\n",
    "### 7.Given a string , return the sum and average of the digits that appear in the string , ignoring all other characters.\n",
    "### 8.Accept two int values from the user and return their product. If the product is greator than 1000, then return their sum.\n",
    "### 9.Given a list of ints , return True if the first and last number of a list is the same.\n",
    "### 10.print the following pattern\n",
    "### 1\n",
    "### 2 2\n",
    "### 3 3 3\n",
    "### 4 4 4 4\n",
    "### 5 5 5 5 5\n",
    "### 11. given a two list of ints create a third list such that it onky contains odd numbers from the first list and even numbers from the second list.\n"
   ]
  },
  {
   "cell_type": "code",
   "execution_count": 10,
   "metadata": {},
   "outputs": [
    {
     "name": "stdout",
     "output_type": "stream",
     "text": [
      "enter a stringabcdefghi\n",
      "9\n",
      "4.5\n",
      "4\n",
      "the result is : def\n"
     ]
    }
   ],
   "source": [
    "#1.Given a string of odd length greater than 7 , return a string made of the middle three characters .\n",
    "def my_func(s,l):\n",
    "    mid=l/2\n",
    "    print(mid)\n",
    "    \n",
    "    mid1=int(mid)\n",
    "    print(mid1)\n",
    "    result=s[mid1-1:mid1+2]\n",
    "    return result\n",
    "    \n",
    "st=input(\"enter a string\")\n",
    "length=len(st)\n",
    "print(length)\n",
    "if(length%2!=0 and length>7):\n",
    "    res=my_func(st,length)\n",
    "    print(\"the result is :\",res)\n",
    "else:\n",
    "    print(\"string length should be greater than 7 and should be odd\")\n",
    "    "
   ]
  },
  {
   "cell_type": "code",
   "execution_count": 15,
   "metadata": {},
   "outputs": [
    {
     "name": "stdout",
     "output_type": "stream",
     "text": [
      "enter the first stringlisa\n",
      "enter the second stringmiranda\n",
      "limirandasa\n"
     ]
    }
   ],
   "source": [
    "#Given two strings s1 and s2 , create a new string by appending s2 in the middle of s1.\n",
    "s1=input(\"enter the first string\")\n",
    "s2=input(\"enter the second string\")\n",
    "length=len(s1)\n",
    "mid=(length/2)-1\n",
    "mid1=int(mid)\n",
    "res=s1[0:mid1+1]+s2+s1[mid1+1:length]\n",
    "print(res)"
   ]
  },
  {
   "cell_type": "code",
   "execution_count": 19,
   "metadata": {},
   "outputs": [
    {
     "name": "stdout",
     "output_type": "stream",
     "text": [
      "enter the first stringamerica\n",
      "enter the second stringjapan\n",
      "ajrpan\n"
     ]
    }
   ],
   "source": [
    "#Given 2 strings s1 and s2, return a new string made of the first , middle and last character of \n",
    "#each input string. :\"america\" ,\"japan\" ans =ajrpan\n",
    "s1=input(\"enter the first string\")\n",
    "s2=input(\"enter the second string\")\n",
    "length1=len(s1)\n",
    "mid1=int((length1/2)-1)\n",
    "length2=len(s2)\n",
    "mid2=int((length2/2)-1)\n",
    "res=s1[0]+s2[0]+s1[mid1+1]+s2[mid2+1]+s1[length1-1]+s2[length2-1]\n",
    "print(res)"
   ]
  },
  {
   "cell_type": "code",
   "execution_count": 25,
   "metadata": {},
   "outputs": [
    {
     "name": "stdout",
     "output_type": "stream",
     "text": [
      "Enter a stringHelllo How Rae\n",
      "ellloowaeHHR"
     ]
    }
   ],
   "source": [
    "#arrange string characters such that lower characters should come first\n",
    "s1=input(\"Enter a string\")\n",
    "\n",
    "for i in range(len(s1)):\n",
    "    if(s1[i].islower()==True):\n",
    "        print(s1[i],end=\"\")\n",
    "for i in range(len(s1)):\n",
    "    if(s1[i].isupper()==True):\n",
    "        print(s1[i],end=\"\")\n"
   ]
  },
  {
   "cell_type": "code",
   "execution_count": 31,
   "metadata": {},
   "outputs": [
    {
     "name": "stdout",
     "output_type": "stream",
     "text": [
      "enter a stringUSA usa\n",
      "2\n"
     ]
    }
   ],
   "source": [
    "#Find all occurrences of USA in a given string ignoring the case\n",
    "s=input(\"enter a string\")\n",
    "ls=s.split(\" \")\n",
    "total=0\n",
    "s1=s.lower()\n",
    "for i in ls:\n",
    "    if(i==\"usa\" or i==\"USA\"):\n",
    "        total=total+1\n",
    "\n",
    "print(total)"
   ]
  },
  {
   "cell_type": "code",
   "execution_count": 33,
   "metadata": {},
   "outputs": [
    {
     "name": "stdout",
     "output_type": "stream",
     "text": [
      "enter a stringlisa123\n",
      "6\n"
     ]
    }
   ],
   "source": [
    "#Given a string , return the sum and average of the digits that appear in the string , ignoring all other characters.\n",
    "s1=input(\"enter a string\")\n",
    "total=0\n",
    "for i in range(len(s1)):\n",
    "    if(s1[i].isdigit()==True):\n",
    "        total=total+int(s1[i])\n",
    "print(total)"
   ]
  },
  {
   "cell_type": "code",
   "execution_count": 38,
   "metadata": {},
   "outputs": [],
   "source": [
    "#Given two lists , create a third list by picking an odd-index element from first list and an even index element from second."
   ]
  },
  {
   "cell_type": "code",
   "execution_count": 39,
   "metadata": {},
   "outputs": [],
   "source": [
    "#Given an input list remove the element at index 4 and add it to the second position and also at the end of the list"
   ]
  },
  {
   "cell_type": "code",
   "execution_count": 40,
   "metadata": {},
   "outputs": [],
   "source": [
    "#Given a list slice it into three equal chucks and reverse each list\n"
   ]
  },
  {
   "cell_type": "code",
   "execution_count": 41,
   "metadata": {},
   "outputs": [],
   "source": [
    "#Given two lists of equal size , create a set such that it shows the element from both lists in th pair."
   ]
  },
  {
   "cell_type": "code",
   "execution_count": 42,
   "metadata": {},
   "outputs": [],
   "source": [
    "#Given two sets , find the intersection and remove those elements from the first set."
   ]
  },
  {
   "cell_type": "code",
   "execution_count": 43,
   "metadata": {},
   "outputs": [],
   "source": [
    "#Given two sets , check if one set is subset or superset of the other. if the subset is found, delete all the elements from that set."
   ]
  },
  {
   "cell_type": "code",
   "execution_count": 44,
   "metadata": {},
   "outputs": [],
   "source": [
    "#iterate  a given list and check if a given element already exists in a dictionary as a keys value , if not delete it from the list"
   ]
  },
  {
   "cell_type": "code",
   "execution_count": 45,
   "metadata": {},
   "outputs": [],
   "source": [
    "#Given a dictionary get all values from the dictionary and add it in a list but dont add duplicates."
   ]
  },
  {
   "cell_type": "code",
   "execution_count": 46,
   "metadata": {},
   "outputs": [],
   "source": [
    "#Write a program that accepts a sequence of whitespace separated words as input and prints the words after removing\n",
    "# all duplicate words and sorting them alphanumerically."
   ]
  },
  {
   "cell_type": "code",
   "execution_count": 47,
   "metadata": {},
   "outputs": [],
   "source": [
    "#write a program which can map() and filter() to make a list whose elements are square of even number in\n",
    "#[1,2,3,4,5,6,7,8,9,10]"
   ]
  },
  {
   "cell_type": "code",
   "execution_count": null,
   "metadata": {},
   "outputs": [],
   "source": [
    "import pandas as pd\n",
    "L =int(input())\n",
    "while(L>1 and L<10**3):\n",
    "     \n",
    "    d={}\n",
    "    list1 = input().split(\" \")\n",
    "    list2 = input().split(\" \")\n",
    "    if len(list1) != len(list2):\n",
    "        print(\"Length not equal\")\n",
    "    else:\n",
    "        for i in range(len(list1)):\n",
    "            d[list1[i]]=list2[i]\n",
    "    ser=pd.Series(d)\n",
    "    inp=input().split(\" \")\n",
    "    n=int(inp[0])\n",
    "    pos=int(inp[1])\n",
    "    if(pos==1):\n",
    "        print(ser[:n])\n",
    "    else:\n",
    "        print(ser[-n:])"
   ]
  },
  {
   "cell_type": "code",
   "execution_count": null,
   "metadata": {},
   "outputs": [],
   "source": []
  }
 ],
 "metadata": {
  "kernelspec": {
   "display_name": "Python 3",
   "language": "python",
   "name": "python3"
  },
  "language_info": {
   "codemirror_mode": {
    "name": "ipython",
    "version": 3
   },
   "file_extension": ".py",
   "mimetype": "text/x-python",
   "name": "python",
   "nbconvert_exporter": "python",
   "pygments_lexer": "ipython3",
   "version": "3.7.3"
  }
 },
 "nbformat": 4,
 "nbformat_minor": 2
}
