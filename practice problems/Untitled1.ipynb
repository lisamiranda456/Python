{
 "cells": [
  {
   "cell_type": "code",
   "execution_count": null,
   "metadata": {},
   "outputs": [],
   "source": [
    "import numpy as np\n",
    "T = int(input())\n",
    "m=[]\n",
    "for i in range(T):\n",
    "    row=input().split(\" \")\n",
    "    marks1=int(row[1])\n",
    "    marks2=int(row[2])\n",
    "    m.append([marks1,marks2])\n",
    "mean=np.mean(m)\n",
    "for i in m:\n",
    "    if(((i[0]+i[1])/2)>np.mean):\n",
    "        print(1.0)\n",
    "    else:\n",
    "        print(0.0)\n",
    "        \n",
    "\n",
    "    \n",
    "    \n",
    "    \n",
    "\n",
    "\n"
   ]
  },
  {
   "cell_type": "code",
   "execution_count": null,
   "metadata": {},
   "outputs": [],
   "source": [
    "Alex 18 54 Australia\n",
    "Bob 15 64 China\n",
    "Clarke 16 70 Mexico"
   ]
  },
  {
   "cell_type": "code",
   "execution_count": 9,
   "metadata": {},
   "outputs": [
    {
     "name": "stdout",
     "output_type": "stream",
     "text": [
      "d\n"
     ]
    },
    {
     "ename": "ValueError",
     "evalue": "invalid literal for int() with base 10: 'd'",
     "output_type": "error",
     "traceback": [
      "\u001b[1;31m---------------------------------------------------------------------------\u001b[0m",
      "\u001b[1;31mValueError\u001b[0m                                Traceback (most recent call last)",
      "\u001b[1;32m<ipython-input-9-b53f88955b21>\u001b[0m in \u001b[0;36m<module>\u001b[1;34m\u001b[0m\n\u001b[0;32m      1\u001b[0m \u001b[1;32mimport\u001b[0m \u001b[0mpandas\u001b[0m \u001b[1;32mas\u001b[0m \u001b[0mpd\u001b[0m\u001b[1;33m\u001b[0m\u001b[1;33m\u001b[0m\u001b[0m\n\u001b[1;32m----> 2\u001b[1;33m \u001b[0mT\u001b[0m\u001b[1;33m=\u001b[0m\u001b[0mint\u001b[0m\u001b[1;33m(\u001b[0m\u001b[0minput\u001b[0m\u001b[1;33m(\u001b[0m\u001b[1;33m)\u001b[0m\u001b[1;33m)\u001b[0m\u001b[1;33m\u001b[0m\u001b[1;33m\u001b[0m\u001b[0m\n\u001b[0m\u001b[0;32m      3\u001b[0m \u001b[0mcampaign_name\u001b[0m\u001b[1;33m=\u001b[0m\u001b[0minput\u001b[0m\u001b[1;33m(\u001b[0m\u001b[1;33m)\u001b[0m\u001b[1;33m.\u001b[0m\u001b[0msplit\u001b[0m\u001b[1;33m(\u001b[0m\u001b[1;34m\" \"\u001b[0m\u001b[1;33m)\u001b[0m\u001b[1;33m\u001b[0m\u001b[1;33m\u001b[0m\u001b[0m\n\u001b[0;32m      4\u001b[0m \u001b[0mno_of_emails\u001b[0m\u001b[1;33m=\u001b[0m\u001b[1;33m[\u001b[0m\u001b[1;33m]\u001b[0m\u001b[1;33m\u001b[0m\u001b[1;33m\u001b[0m\u001b[0m\n\u001b[0;32m      5\u001b[0m \u001b[0memail_open_rate\u001b[0m\u001b[1;33m=\u001b[0m\u001b[1;33m[\u001b[0m\u001b[1;33m]\u001b[0m\u001b[1;33m\u001b[0m\u001b[1;33m\u001b[0m\u001b[0m\n",
      "\u001b[1;31mValueError\u001b[0m: invalid literal for int() with base 10: 'd'"
     ]
    }
   ],
   "source": [
    "import pandas as pd\n",
    "T=int(input())\n",
    "campaign_name=input().split(\" \")\n",
    "no_of_emails=[]\n",
    "email_open_rate=[]\n",
    "emails=input().split(\" \")\n",
    "open_rate=input().split(\" \")\n",
    "for i in emails:\n",
    "    no_of_emails.append(int(i))\n",
    "for i in open_rate:\n",
    "    email_open_rate.append(int(i))\n",
    "marks=0\n",
    "ls=pd.DataFrame([campaign_name,no_of_emails,email_open_rate])\n",
    "print(ls)\n",
    "\n",
    "print(ls.iloc[0])\n",
    "for i in ls:\n",
    "    if(i[2]>mean):\n",
    "        print(\"True\")\n",
    "    else:\n",
    "        print(\"False\")\n",
    "    "
   ]
  },
  {
   "cell_type": "code",
   "execution_count": 7,
   "metadata": {},
   "outputs": [],
   "source": [
    "SoftBank Apple Microsoft Amazon\n",
    "2845 3425 2942 4215\n",
    "1253 3256 2100 1252\n",
    "ls"
   ]
  },
  {
   "cell_type": "code",
   "execution_count": 12,
   "metadata": {},
   "outputs": [
    {
     "name": "stdout",
     "output_type": "stream",
     "text": [
      "          0      1          2       3\n",
      "0  SoftBank  Apple  Microsoft  Amazon\n",
      "1      2845   3425       2942    4215\n",
      "2      1253   3256       2100    1252\n",
      "0    SoftBank\n",
      "1        2845\n",
      "2        1253\n",
      "Name: 0, dtype: object\n",
      "0    Apple\n",
      "1     3425\n",
      "2     3256\n",
      "Name: 1, dtype: object\n",
      "0    Microsoft\n",
      "1         2942\n",
      "2         2100\n",
      "Name: 2, dtype: object\n",
      "0    Amazon\n",
      "1      4215\n",
      "2      1252\n",
      "Name: 3, dtype: object\n"
     ]
    }
   ],
   "source": [
    "l1=[\"SoftBank\", \"Apple\", \"Microsoft\", \"Amazon\"]\n",
    "l2=[2845, 3425, 2942, 4215]\n",
    "l3=[1253, 3256, 2100, 1252]\n",
    "ls=pd.DataFrame([campaign_name,no_of_emails,email_open_rate])\n",
    "print(ls)\n",
    "for i in ls:\n",
    "    print(ls[i])"
   ]
  },
  {
   "cell_type": "code",
   "execution_count": 15,
   "metadata": {},
   "outputs": [
    {
     "data": {
      "text/plain": [
       "array([ 2,  5,  8, 11])"
      ]
     },
     "execution_count": 15,
     "metadata": {},
     "output_type": "execute_result"
    }
   ],
   "source": [
    "import numpy as np\n",
    "np.arange(2,12,3)"
   ]
  },
  {
   "cell_type": "code",
   "execution_count": 47,
   "metadata": {},
   "outputs": [
    {
     "name": "stdout",
     "output_type": "stream",
     "text": [
      "      0    1\n",
      "0   2.0  axe\n",
      "1   5.0  bar\n",
      "2   8.0  cat\n",
      "3  11.0  div\n",
      "4   NaN  eli\n",
      "5   NaN  fif\n",
      "6   NaN  gor\n",
      "7   NaN  had\n"
     ]
    }
   ],
   "source": [
    "import math\n",
    "stp=int(input())\n",
    "enp=12\n",
    "step=3\n",
    "list1=list(np.arange(2,12,3))\n",
    "list2=['axe', 'bar', 'cat', 'div', 'eli', 'fif', 'gor', 'had']\n",
    "l=len(list2)-len(list1)\n",
    "for i in range(l):\n",
    "    list1.append(math.nan)\n",
    "index=[0,1,2,3,4,5,6,7]\n",
    "list1=pd.Series(list1)\n",
    "list2=pd.Series(list2)\n",
    "res=pd.concat([list1,list2],axis=1)\n",
    "print(res)\n",
    "n=int(inp[0])\n",
    "pos=int(inp[1])\n",
    "if(pos==1):\n",
    "    print(ser[:n])\n",
    "else:\n",
    "    print(ser[-n:])\n",
    "    "
   ]
  },
  {
   "cell_type": "code",
   "execution_count": 44,
   "metadata": {},
   "outputs": [
    {
     "data": {
      "text/html": [
       "<div>\n",
       "<style scoped>\n",
       "    .dataframe tbody tr th:only-of-type {\n",
       "        vertical-align: middle;\n",
       "    }\n",
       "\n",
       "    .dataframe tbody tr th {\n",
       "        vertical-align: top;\n",
       "    }\n",
       "\n",
       "    .dataframe thead th {\n",
       "        text-align: right;\n",
       "    }\n",
       "</style>\n",
       "<table border=\"1\" class=\"dataframe\">\n",
       "  <thead>\n",
       "    <tr style=\"text-align: right;\">\n",
       "      <th></th>\n",
       "      <th>0</th>\n",
       "      <th>1</th>\n",
       "    </tr>\n",
       "  </thead>\n",
       "  <tbody>\n",
       "    <tr>\n",
       "      <th>0</th>\n",
       "      <td>1</td>\n",
       "      <td>6</td>\n",
       "    </tr>\n",
       "    <tr>\n",
       "      <th>1</th>\n",
       "      <td>2</td>\n",
       "      <td>7</td>\n",
       "    </tr>\n",
       "    <tr>\n",
       "      <th>2</th>\n",
       "      <td>3</td>\n",
       "      <td>8</td>\n",
       "    </tr>\n",
       "    <tr>\n",
       "      <th>3</th>\n",
       "      <td>4</td>\n",
       "      <td>9</td>\n",
       "    </tr>\n",
       "    <tr>\n",
       "      <th>4</th>\n",
       "      <td>5</td>\n",
       "      <td>10</td>\n",
       "    </tr>\n",
       "  </tbody>\n",
       "</table>\n",
       "</div>"
      ],
      "text/plain": [
       "   0   1\n",
       "0  1   6\n",
       "1  2   7\n",
       "2  3   8\n",
       "3  4   9\n",
       "4  5  10"
      ]
     },
     "execution_count": 44,
     "metadata": {},
     "output_type": "execute_result"
    }
   ],
   "source": [
    "ls1=[1,2,3,4,5]\n",
    "ls2=[6,7,8,9,10]\n",
    "ls1=pd.Series(ls1)\n",
    "ls2=pd.Series(ls2)\n",
    "pd.concat([ls1,ls2],axis=1)\n"
   ]
  },
  {
   "cell_type": "code",
   "execution_count": 40,
   "metadata": {},
   "outputs": [
    {
     "data": {
      "text/html": [
       "<div>\n",
       "<style scoped>\n",
       "    .dataframe tbody tr th:only-of-type {\n",
       "        vertical-align: middle;\n",
       "    }\n",
       "\n",
       "    .dataframe tbody tr th {\n",
       "        vertical-align: top;\n",
       "    }\n",
       "\n",
       "    .dataframe thead th {\n",
       "        text-align: right;\n",
       "    }\n",
       "</style>\n",
       "<table border=\"1\" class=\"dataframe\">\n",
       "  <thead>\n",
       "    <tr style=\"text-align: right;\">\n",
       "      <th></th>\n",
       "      <th>A</th>\n",
       "      <th>B</th>\n",
       "      <th>C</th>\n",
       "      <th>D</th>\n",
       "    </tr>\n",
       "  </thead>\n",
       "  <tbody>\n",
       "    <tr>\n",
       "      <th>K0</th>\n",
       "      <td>A0</td>\n",
       "      <td>B0</td>\n",
       "      <td>C0</td>\n",
       "      <td>D0</td>\n",
       "    </tr>\n",
       "    <tr>\n",
       "      <th>K1</th>\n",
       "      <td>A1</td>\n",
       "      <td>B1</td>\n",
       "      <td>C1</td>\n",
       "      <td>D1</td>\n",
       "    </tr>\n",
       "    <tr>\n",
       "      <th>K2</th>\n",
       "      <td>A2</td>\n",
       "      <td>B2</td>\n",
       "      <td>C2</td>\n",
       "      <td>D2</td>\n",
       "    </tr>\n",
       "    <tr>\n",
       "      <th>K3</th>\n",
       "      <td>A3</td>\n",
       "      <td>B3</td>\n",
       "      <td>C3</td>\n",
       "      <td>D3</td>\n",
       "    </tr>\n",
       "  </tbody>\n",
       "</table>\n",
       "</div>"
      ],
      "text/plain": [
       "     A   B   C   D\n",
       "K0  A0  B0  C0  D0\n",
       "K1  A1  B1  C1  D1\n",
       "K2  A2  B2  C2  D2\n",
       "K3  A3  B3  C3  D3"
      ]
     },
     "execution_count": 40,
     "metadata": {},
     "output_type": "execute_result"
    }
   ],
   "source": [
    "left = pd.DataFrame({'A': ['A0', 'A1', 'A2', 'A3'], \n",
    "                    'B': ['B0', 'B1', 'B2', 'B3']}, \n",
    "                    index = ['K0', 'K1', 'K2', 'K3']) \n",
    "  \n",
    "right = pd.DataFrame({'C': ['C0', 'C1', 'C2', 'C3'], \n",
    "                      'D': ['D0', 'D1', 'D2', 'D3']}, \n",
    "                      index = ['K0', 'K1', 'K2', 'K3']) \n",
    "                        \n",
    "# Joining the dataframes                       \n",
    "left.join(right) "
   ]
  },
  {
   "cell_type": "code",
   "execution_count": null,
   "metadata": {},
   "outputs": [],
   "source": [
    "T=int(input())\n",
    "campaign_name=input().split(\" \")\n",
    "no_of_emails=[]\n",
    "email_open_rate=[]\n",
    "emails=input().split(\" \")\n",
    "open_rate=input().split(\" \")\n",
    "for i in emails:\n",
    "    no_of_emails.append(int(i))\n",
    "for i in open_rate:\n",
    "    email_open_rate.append(int(i))\n",
    "marks=0\n",
    "\n",
    "ls=list(zip(campaign_name,no_of_emails,email_open_rate))\n",
    "\n",
    "for i in ls:\n",
    "    marks=marks+i[2]\n",
    "mean=marks/4\n",
    "for i in ls:\n",
    "    if(i[2]>mean):\n",
    "        print(\"True\")\n",
    "    else:\n",
    "        print(\"False\")\n",
    "    "
   ]
  },
  {
   "cell_type": "code",
   "execution_count": 50,
   "metadata": {},
   "outputs": [
    {
     "data": {
      "text/plain": [
       "{'kkk': [1, 2, 3]}"
      ]
     },
     "execution_count": 50,
     "metadata": {},
     "output_type": "execute_result"
    }
   ],
   "source": [
    "ls=[1,2,3]\n",
    "d={}\n",
    "d[\"kkk\"]=ls\n",
    "d"
   ]
  },
  {
   "cell_type": "code",
   "execution_count": 49,
   "metadata": {},
   "outputs": [
    {
     "data": {
      "text/plain": [
       "{'lll': [12, 34]}"
      ]
     },
     "execution_count": 49,
     "metadata": {},
     "output_type": "execute_result"
    }
   ],
   "source": [
    "d"
   ]
  },
  {
   "cell_type": "code",
   "execution_count": 101,
   "metadata": {},
   "outputs": [
    {
     "name": "stdout",
     "output_type": "stream",
     "text": [
      "4\n",
      "SoftBank Apple Microsoft Amazon\n",
      "2845 3425 2942 4215\n",
      "1253 3256 2100 1252\n",
      "False\n",
      "True\n",
      "False\n",
      "False\n"
     ]
    }
   ],
   "source": [
    "import pandas as pd\n",
    "import numpy as np\n",
    "T=int(input())\n",
    "campaign_name=input().split(\" \")\n",
    "no_of_emails=[]\n",
    "email_open_rate=[]\n",
    "ls=[]\n",
    "emails=input().split(\" \")\n",
    "open_rate=input().split(\" \")\n",
    "for i in emails:\n",
    "    no_of_emails.append(int(i))\n",
    "for i in open_rate:\n",
    "    email_open_rate.append(int(i))\n",
    "d={}\n",
    "for i in range(4):\n",
    "    d[campaign_name[i]]=[no_of_emails[i],email_open_rate[i]]\n",
    "data=pd.DataFrame(d) \n",
    "mean=(np.sum(data.iloc[0])+np.sum(data.iloc[1]))/8\n",
    "\n",
    "\n",
    "for i in range(data.shape[1]):\n",
    "    \n",
    "    if(data.iloc[1,i]>mean):\n",
    "        \n",
    "        print(\"True\")\n",
    "    else:\n",
    "        print(\"False\")\n",
    "   \n",
    "\n",
    "    "
   ]
  },
  {
   "cell_type": "code",
   "execution_count": null,
   "metadata": {},
   "outputs": [],
   "source": [
    "4\n",
    "SoftBank Apple Microsoft Amazon\n",
    "2845 3425 2942 4215\n",
    "1253 3256 2100 1252"
   ]
  },
  {
   "cell_type": "code",
   "execution_count": 58,
   "metadata": {},
   "outputs": [
    {
     "data": {
      "text/html": [
       "<div>\n",
       "<style scoped>\n",
       "    .dataframe tbody tr th:only-of-type {\n",
       "        vertical-align: middle;\n",
       "    }\n",
       "\n",
       "    .dataframe tbody tr th {\n",
       "        vertical-align: top;\n",
       "    }\n",
       "\n",
       "    .dataframe thead th {\n",
       "        text-align: right;\n",
       "    }\n",
       "</style>\n",
       "<table border=\"1\" class=\"dataframe\">\n",
       "  <thead>\n",
       "    <tr style=\"text-align: right;\">\n",
       "      <th></th>\n",
       "      <th>SoftBank</th>\n",
       "      <th>Apple</th>\n",
       "      <th>Microsoft</th>\n",
       "      <th>Amazon</th>\n",
       "    </tr>\n",
       "  </thead>\n",
       "  <tbody>\n",
       "    <tr>\n",
       "      <th>0</th>\n",
       "      <td>2845</td>\n",
       "      <td>3425</td>\n",
       "      <td>2942</td>\n",
       "      <td>4215</td>\n",
       "    </tr>\n",
       "    <tr>\n",
       "      <th>1</th>\n",
       "      <td>1253</td>\n",
       "      <td>3256</td>\n",
       "      <td>2100</td>\n",
       "      <td>1252</td>\n",
       "    </tr>\n",
       "  </tbody>\n",
       "</table>\n",
       "</div>"
      ],
      "text/plain": [
       "   SoftBank  Apple  Microsoft  Amazon\n",
       "0      2845   3425       2942    4215\n",
       "1      1253   3256       2100    1252"
      ]
     },
     "execution_count": 58,
     "metadata": {},
     "output_type": "execute_result"
    }
   ],
   "source": [
    "data"
   ]
  },
  {
   "cell_type": "code",
   "execution_count": 87,
   "metadata": {},
   "outputs": [
    {
     "data": {
      "text/plain": [
       "1253"
      ]
     },
     "execution_count": 87,
     "metadata": {},
     "output_type": "execute_result"
    }
   ],
   "source": [
    "data.iloc[1,0]"
   ]
  },
  {
   "cell_type": "code",
   "execution_count": 96,
   "metadata": {},
   "outputs": [
    {
     "name": "stdout",
     "output_type": "stream",
     "text": [
      "2845\n",
      "3425\n",
      "2942\n",
      "4215\n"
     ]
    }
   ],
   "source": [
    "for i in range(4):\n",
    "    print(data.iloc[0,i])"
   ]
  },
  {
   "cell_type": "code",
   "execution_count": 93,
   "metadata": {},
   "outputs": [
    {
     "data": {
      "text/plain": [
       "1252"
      ]
     },
     "execution_count": 93,
     "metadata": {},
     "output_type": "execute_result"
    }
   ],
   "source": [
    "data.iloc[1,3]"
   ]
  },
  {
   "cell_type": "code",
   "execution_count": null,
   "metadata": {},
   "outputs": [],
   "source": [
    "#0 marks using dictionary\n",
    "import pandas as pd\n",
    "import numpy as np\n",
    "T=int(input())\n",
    "campaign_name=input().split(\" \")\n",
    "no_of_emails=[]\n",
    "email_open_rate=[]\n",
    "ls=[]\n",
    "emails=input().split(\" \")\n",
    "open_rate=input().split(\" \")\n",
    "for i in emails:\n",
    "    no_of_emails.append(int(i))\n",
    "for i in open_rate:\n",
    "    email_open_rate.append(int(i))\n",
    "d={}\n",
    "for i in range(4):\n",
    "    d[campaign_name[i]]=[no_of_emails[i],email_open_rate[i]]\n",
    "data=pd.DataFrame(d) \n",
    "mean=np.sum(data.iloc[1])/4\n",
    "for i in range(data.shape[1]):\n",
    "    if(data.iloc[1,i]>mean):\n",
    "        print(\"True\")\n",
    "    else:\n",
    "        print(\"False\")\n",
    "   \n",
    "\n",
    "    "
   ]
  },
  {
   "cell_type": "code",
   "execution_count": 102,
   "metadata": {},
   "outputs": [
    {
     "name": "stdout",
     "output_type": "stream",
     "text": [
      "4\n",
      "SoftBank Apple Microsoft Amazon\n",
      "2845 3425 2942 4215\n",
      "1253 3256 2100 1252\n",
      "[('SoftBank', 2845, 1253), ('Apple', 3425, 3256), ('Microsoft', 2942, 2100), ('Amazon', 4215, 1252)]\n"
     ]
    }
   ],
   "source": [
    "#0 marks using dictionary\n",
    "import pandas as pd\n",
    "import numpy as np\n",
    "T=int(input())\n",
    "campaign_name=input().split(\" \")\n",
    "no_of_emails=[]\n",
    "email_open_rate=[]\n",
    "ls=[]\n",
    "emails=input().split(\" \")\n",
    "open_rate=input().split(\" \")\n",
    "for i in emails:\n",
    "    no_of_emails.append(int(i))\n",
    "for i in open_rate:\n",
    "    email_open_rate.append(int(i))\n",
    "d=list(zip(campaign_name,no_of_emails,email_open_rate))\n",
    "print(d)\n",
    "   \n",
    "\n",
    "    "
   ]
  },
  {
   "cell_type": "code",
   "execution_count": null,
   "metadata": {},
   "outputs": [],
   "source": [
    "4\n",
    "SoftBank Apple Microsoft Amazon\n",
    "2845 3425 2942 4215\n",
    "1253 3256 2100 1252"
   ]
  }
 ],
 "metadata": {
  "kernelspec": {
   "display_name": "Python 3",
   "language": "python",
   "name": "python3"
  },
  "language_info": {
   "codemirror_mode": {
    "name": "ipython",
    "version": 3
   },
   "file_extension": ".py",
   "mimetype": "text/x-python",
   "name": "python",
   "nbconvert_exporter": "python",
   "pygments_lexer": "ipython3",
   "version": "3.7.3"
  }
 },
 "nbformat": 4,
 "nbformat_minor": 2
}
