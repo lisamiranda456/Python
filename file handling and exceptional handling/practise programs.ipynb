{
 "cells": [
  {
   "cell_type": "code",
   "execution_count": 1,
   "metadata": {},
   "outputs": [
    {
     "name": "stdout",
     "output_type": "stream",
     "text": [
      "file opened successfully\n",
      "number of lines : 5\n",
      "number of words : 39\n",
      "number of characters : 206\n"
     ]
    }
   ],
   "source": [
    "#count the number of words in a file\n",
    "try:\n",
    "    fhand=open('new.txt','r')\n",
    "    \n",
    "    print(\"file opened successfully\")\n",
    "except:\n",
    "    print(\"file cannot be opened\")\n",
    "    exit()\n",
    "no_of_words=0  \n",
    "no_of_chars=0\n",
    "no_of_lines=0\n",
    "for line in fhand:\n",
    "    no_of_lines=no_of_lines+1\n",
    "    length=len(line)\n",
    "    no_of_chars=no_of_chars+length\n",
    "    ls=line.split(\" \")\n",
    "    no_of_words=no_of_words+len(ls)\n",
    "    \n",
    "        \n",
    "   \n",
    "    \n",
    "    \n",
    "print(\"number of lines :\",no_of_lines)\n",
    "print(\"number of words :\",no_of_words)\n",
    "print(\"number of characters :\",no_of_chars)\n",
    "fhand.close()"
   ]
  },
  {
   "cell_type": "code",
   "execution_count": 2,
   "metadata": {},
   "outputs": [
    {
     "name": "stdout",
     "output_type": "stream",
     "text": [
      "file opened successfully\n",
      "enter the wordJammu\n",
      "Jammu and Kashmir is an Jammu integral part of India now,\n",
      "\n",
      "Jammu Delhi is the capital of india'\n",
      "\n"
     ]
    }
   ],
   "source": [
    "try:\n",
    "    fhand=open('new.txt','r')\n",
    "    \n",
    "    print(\"file opened successfully\")\n",
    "except:\n",
    "    print(\"file cannot be opened\")\n",
    "    exit()\n",
    "    \n",
    "word=input(\"enter the word\")\n",
    "for line in fhand:\n",
    "    ls=line.split(\" \")\n",
    "    #for i in ls:\n",
    "    if ls[0]==word:\n",
    "        print(line)\n",
    "            #break"
   ]
  },
  {
   "cell_type": "code",
   "execution_count": 49,
   "metadata": {},
   "outputs": [
    {
     "name": "stdout",
     "output_type": "stream",
     "text": [
      "5\n",
      "5 2\n",
      "+\n",
      "-\n",
      "*\n",
      "/\n",
      "%\n",
      "7\n",
      "3\n",
      "10\n",
      "2.5\n"
     ]
    }
   ],
   "source": [
    "T=input()\n",
    "num=input()\n",
    "ls_num=num.split(\" \")\n",
    "num1=int(ls_num[0])\n",
    "num2=int(ls_num[1])\n",
    "op1=input()\n",
    "op2=input()\n",
    "op3=input()\n",
    "op4=input()\n",
    "op5=input()\n",
    "print(num1+num2)\n",
    "print(num1-num2)\n",
    "print(num1*num2)\n",
    "print(num1/num2)"
   ]
  },
  {
   "cell_type": "code",
   "execution_count": 57,
   "metadata": {},
   "outputs": [
    {
     "name": "stdout",
     "output_type": "stream",
     "text": [
      "file opened successfully\n",
      "final dictionary : {'india': 2, 'is': 5, 'a': 1, 'great': 1, 'country': 1, '.': 1, '\\n': 1, 'jammu': 3, 'and': 1, 'kashmir': 1, 'an': 1, 'integral': 1, 'part': 1, 'of': 5, 'now.\\n': 1, 'karnataka': 1, 'one': 1, 'the': 4, 'states': 1, 'india.\\n': 1, 'bangalore': 1, 'capital': 2, 'karnataka.\\n': 1, 'delhi': 1, 'india\\n': 1}\n"
     ]
    }
   ],
   "source": [
    "#perform word count on the contents of the file\n",
    "try:\n",
    "    fhand=open('new.txt','r')\n",
    "    #print(fhand)\n",
    "    print(\"file opened successfully\")\n",
    "except:\n",
    "    print(\"file cannot be opened\")\n",
    "    exit()\n",
    "count=0   \n",
    "dic={}\n",
    "for line in fhand:\n",
    "    \n",
    "    ls=line.lower().split(\" \")\n",
    "    #ls=ls.lower()\n",
    "    \n",
    "    for j in ls:\n",
    "        dic[j]=dic.get(j,0)+1\n",
    "print(\"final dictionary :\",dic)\n",
    "\n",
    "  "
   ]
  },
  {
   "cell_type": "code",
   "execution_count": 62,
   "metadata": {},
   "outputs": [
    {
     "name": "stdout",
     "output_type": "stream",
     "text": [
      "file opened successfully\n",
      "india is a great country\n",
      "jammu and kashmir is an jammu integral part of india now\n",
      "karnataka is one of the states of india\n",
      "bangalore the is the capital of karnataka\n",
      "jammu delhi is the capital of india\n",
      "final dictionary : {'india': 4, 'is': 5, 'a': 1, 'great': 1, 'country': 1, 'jammu': 3, 'and': 1, 'kashmir': 1, 'an': 1, 'integral': 1, 'part': 1, 'of': 5, 'now': 1, 'karnataka': 2, 'one': 1, 'the': 4, 'states': 1, 'bangalore': 1, 'capital': 2, 'delhi': 1}\n"
     ]
    }
   ],
   "source": [
    "import string\n",
    "try:\n",
    "    fhand=open('new.txt','r')\n",
    "    #print(fhand)\n",
    "    print(\"file opened successfully\")\n",
    "except:\n",
    "    print(\"file cannot be opened\")\n",
    "    exit()\n",
    "    \n",
    "d=dict()\n",
    "for line in fhand:\n",
    "    line=line.rstrip()\n",
    "    line=line.lower()\n",
    "    line=line.translate(line.maketrans('','',string.punctuation))\n",
    "    print(line)\n",
    "    \n",
    "    for word in line.split():\n",
    "         d[word]=d.get(word,0)+1\n",
    "print(\"final dictionary :\",d)\n",
    "    \n",
    "fhand.close()   \n",
    "    "
   ]
  },
  {
   "cell_type": "code",
   "execution_count": 65,
   "metadata": {},
   "outputs": [
    {
     "name": "stdout",
     "output_type": "stream",
     "text": [
      "PRIME\n",
      "PRIME\n",
      "PRIME\n",
      "COMPOSITE\n"
     ]
    }
   ],
   "source": [
    "ls=[3,9,7,12]\n",
    "for j in ls:\n",
    "    if(j >= 2 and j<=1000):  \n",
    "        for k in range(2,j):\n",
    "            if(j % k == 0):\n",
    "                print(\"COMPOSITE\")  \n",
    "           \n",
    "                break  \n",
    "            else:  \n",
    "                print(\"PRIME\")\n",
    "                break\n",
    "         \n",
    "    else:  \n",
    "        print(\"Out of Range\")  "
   ]
  },
  {
   "cell_type": "code",
   "execution_count": 80,
   "metadata": {},
   "outputs": [
    {
     "name": "stdout",
     "output_type": "stream",
     "text": [
      "prime\n",
      "prime\n",
      "composite\n"
     ]
    }
   ],
   "source": [
    "ls=[3,7,9]\n",
    "flag=0\n",
    "for num in ls:\n",
    "    if num >=2 and num<=1000:\n",
    "        for i in range(2,num):\n",
    "            if (num % i) == 0:\n",
    "                flag=0\n",
    "                break\n",
    "            else:\n",
    "                flag=1\n",
    "                continue\n",
    "    else:\n",
    "        print(\"out of range\")\n",
    "    if(flag==1):\n",
    "        print(\"prime\")\n",
    "    else:\n",
    "        print(\"composite\")"
   ]
  },
  {
   "cell_type": "code",
   "execution_count": 68,
   "metadata": {},
   "outputs": [
    {
     "name": "stdout",
     "output_type": "stream",
     "text": [
      "PRIME\n",
      "PRIME\n",
      "PRIME\n"
     ]
    }
   ],
   "source": [
    "ls=[3,7,9]\n",
    "for j in ls:\n",
    "    if(j >= 2 and j<=1000):  \n",
    "        for k in range(2,j):\n",
    "            if((j % k) == 0):\n",
    "                print(\"COMPOSITE\")  \n",
    "           \n",
    "                break  \n",
    "            else:  \n",
    "                print(\"PRIME\")\n",
    "                break\n",
    "         \n",
    "    else:  \n",
    "        print(\"Out of Range\")  "
   ]
  },
  {
   "cell_type": "code",
   "execution_count": null,
   "metadata": {},
   "outputs": [],
   "source": []
  }
 ],
 "metadata": {
  "kernelspec": {
   "display_name": "Python 3",
   "language": "python",
   "name": "python3"
  },
  "language_info": {
   "codemirror_mode": {
    "name": "ipython",
    "version": 3
   },
   "file_extension": ".py",
   "mimetype": "text/x-python",
   "name": "python",
   "nbconvert_exporter": "python",
   "pygments_lexer": "ipython3",
   "version": "3.7.3"
  }
 },
 "nbformat": 4,
 "nbformat_minor": 2
}
