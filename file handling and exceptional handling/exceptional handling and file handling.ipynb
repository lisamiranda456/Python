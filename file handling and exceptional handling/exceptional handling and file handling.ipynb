{
 "cells": [
  {
   "cell_type": "raw",
   "metadata": {},
   "source": [
    "# Exception Handling\n",
    "- syntax errors\n",
    "- semantic errors\n",
    "- Runtime errors"
   ]
  },
  {
   "cell_type": "code",
   "execution_count": 1,
   "metadata": {},
   "outputs": [],
   "source": [
    "#example of exception handling"
   ]
  },
  {
   "cell_type": "code",
   "execution_count": 1,
   "metadata": {},
   "outputs": [
    {
     "name": "stdout",
     "output_type": "stream",
     "text": [
      "enter a :2\n",
      "enter b: 0\n",
      "Division by zero is not possible, enter b again\n",
      "enter b: 3\n",
      "ok\n",
      "Division is 0.6666666666666666\n",
      "program over\n"
     ]
    }
   ],
   "source": [
    "a=int(input(\"enter a :\"))\n",
    "while True:\n",
    "    b=int(input(\"enter b: \"))\n",
    "    try:\n",
    "        x=a/b\n",
    "        print(\"ok\")\n",
    "        break\n",
    "    except:\n",
    "        print(\"Division by zero is not possible, enter b again\")\n",
    "print(\"Division is\",x)\n",
    "print(\"program over\")\n",
    "    "
   ]
  },
  {
   "cell_type": "markdown",
   "metadata": {},
   "source": [
    "# File Handling"
   ]
  },
  {
   "cell_type": "code",
   "execution_count": 4,
   "metadata": {},
   "outputs": [],
   "source": [
    "#r read mode\n",
    "#w write mode\n",
    "#a appending\n",
    "#r+ reading and writting\n",
    "#w+ write and read\n"
   ]
  },
  {
   "cell_type": "code",
   "execution_count": 6,
   "metadata": {},
   "outputs": [
    {
     "name": "stdout",
     "output_type": "stream",
     "text": [
      "<_io.TextIOWrapper name='new.txt' mode='r' encoding='cp1252'>\n",
      "file opened successfully\n",
      "India is a great country . \n",
      "\n",
      "Jammu and Kashmir is an integral part of India now.\n",
      "\n",
      "Karnataka is one of the states of India.\n",
      "\n",
      "Bangalore the is the capital of Karnataka.\n",
      "\n",
      "New Delhi is the capital of india\n",
      "\n"
     ]
    }
   ],
   "source": [
    "#to print the contents of a file\n",
    "#in python by default it reads one line at a time\n",
    "try:\n",
    "    fhand=open('new.txt','r')\n",
    "    #print(fhand)\n",
    "    print(\"file opened successfully\")\n",
    "except:\n",
    "    print(\"file cannot be opened\")\n",
    "    exit()\n",
    "    \n",
    "for i in fhand:\n",
    "    print(i)\n",
    "    \n",
    "    "
   ]
  },
  {
   "cell_type": "code",
   "execution_count": 7,
   "metadata": {},
   "outputs": [
    {
     "name": "stdout",
     "output_type": "stream",
     "text": [
      "file opened successfully\n",
      "India is a great country . \n",
      " Jammu and Kashmir is an integral part of India now.\n",
      " Karnataka is one of the states of India.\n",
      " Bangalore the is the capital of Karnataka.\n",
      " New Delhi is the capital of india\n",
      " "
     ]
    }
   ],
   "source": [
    "#here when we print the contents the lines are separated by a blank line esch meaning that enter key in the txt file\n",
    "#is stored as one new line\n",
    "try:\n",
    "    fhand=open('new.txt','r')\n",
    "    #print(fhand)\n",
    "    print(\"file opened successfully\")\n",
    "except:\n",
    "    print(\"file cannot be opened\")\n",
    "    exit()\n",
    "    \n",
    "for i in fhand:\n",
    "    print(i,end=\" \")\n",
    "    \n",
    "    "
   ]
  },
  {
   "cell_type": "code",
   "execution_count": 8,
   "metadata": {},
   "outputs": [],
   "source": [
    "#here when we give end=\" \" the lines would not be separated by a blank line"
   ]
  },
  {
   "cell_type": "code",
   "execution_count": 11,
   "metadata": {},
   "outputs": [
    {
     "name": "stdout",
     "output_type": "stream",
     "text": [
      "file opened successfully\n",
      "number of lines : 5\n"
     ]
    }
   ],
   "source": [
    "#count the number of lines in a file\n",
    "try:\n",
    "    fhand=open('new.txt','r')\n",
    "    #print(fhand)\n",
    "    print(\"file opened successfully\")\n",
    "except:\n",
    "    print(\"file cannot be opened\")\n",
    "    exit()\n",
    "count=0    \n",
    "for i in fhand:\n",
    "    count=count+1\n",
    "print(\"number of lines :\",count)\n",
    "fhand.close()"
   ]
  },
  {
   "cell_type": "code",
   "execution_count": null,
   "metadata": {},
   "outputs": [],
   "source": [
    "#count the number of words in a file\n",
    "try:\n",
    "    fhand=open('new.txt','r')\n",
    "    #print(fhand)\n",
    "    print(\"file opened successfully\")\n",
    "except:\n",
    "    print(\"file cannot be opened\")\n",
    "    exit()\n",
    "count=0    \n",
    "for i in fhand:\n",
    "    print(i)\n",
    "    while i!=\" \":\n",
    "        count=count+1\n",
    "print(\"number of words :\",count)\n",
    "fhand.close()\n"
   ]
  },
  {
   "cell_type": "code",
   "execution_count": 13,
   "metadata": {},
   "outputs": [],
   "source": [
    "#print only the lines that are starting with a specific keyword , taken through keyboard"
   ]
  },
  {
   "cell_type": "code",
   "execution_count": 16,
   "metadata": {},
   "outputs": [],
   "source": [
    "#count number of characters in a file"
   ]
  },
  {
   "cell_type": "code",
   "execution_count": 19,
   "metadata": {},
   "outputs": [
    {
     "name": "stdout",
     "output_type": "stream",
     "text": [
      "Enter a line:lisa is a good girl\n",
      "Enter a line:she lives in hubli\n",
      "Enter a line:she studies in manipal\n",
      "Enter a line:she loves sweets\n",
      "Enter a line:n other things too\n",
      "file writting over\n"
     ]
    }
   ],
   "source": [
    "#example to write the dat into a file\n",
    "fout=open('f1.txt','w')\n",
    "\n",
    "for i in range(5):\n",
    "    line=input(\"Enter a line:\")\n",
    "    fout.write(line+\"\\n\")\n",
    "print(\"file writting over\")\n",
    "fout.close()\n",
    "for i in fhand:\n",
    "    print(i)"
   ]
  },
  {
   "cell_type": "code",
   "execution_count": null,
   "metadata": {},
   "outputs": [],
   "source": [
    "lisa is a good girl\n",
    "she lives in hubli\n",
    "she studies in manipal\n",
    "she loves sweets\n",
    "n other things too\n"
   ]
  },
  {
   "cell_type": "code",
   "execution_count": 22,
   "metadata": {},
   "outputs": [
    {
     "name": "stdout",
     "output_type": "stream",
     "text": [
      "lisa is a good girl\n",
      "\n",
      "she lives in hubli\n",
      "\n",
      "she studies in manipal\n",
      "\n",
      "she loves sweets\n",
      "\n",
      "n other things too\n",
      "\n"
     ]
    }
   ],
   "source": [
    "fread=open(\"f1.txt\",\"r\")\n",
    "for i in fread:\n",
    "    print(i)"
   ]
  },
  {
   "cell_type": "code",
   "execution_count": 7,
   "metadata": {},
   "outputs": [
    {
     "name": "stdout",
     "output_type": "stream",
     "text": [
      "<_io.TextIOWrapper name='new.txt' mode='r' encoding='cp1252'>\n",
      "file opened successfully\n",
      "India is a great country. \n",
      "\n",
      "Jammu and Kashmir is an Jammu integral part of India now,\n",
      "\n",
      "Karnataka is one of the states of India?\n",
      "\n",
      "Bangalore the is the capital of Karnataka\"\n",
      "\n",
      "Jammu Delhi is the capital of india'\n",
      "\n"
     ]
    }
   ],
   "source": [
    "#given a text file , copy its contents to a new file.\n",
    "try:\n",
    "    fhand=open('new.txt','r')\n",
    "    print(fhand)\n",
    "    print(\"file opened successfully\")\n",
    "except:\n",
    "    print(\"file cannot be opened\")\n",
    "    exit()\n",
    "   \n",
    "fout=open('f1.txt','a+')\n",
    "\n",
    "for i in fhand:\n",
    "    line=i\n",
    "    #print(line)\n",
    "    fout.write(line+\"\\n\")\n",
    "for i in fout:\n",
    "    print(i)\n",
    "\n",
    "\n",
    "    \n",
    "\n",
    "    \n",
    "\n"
   ]
  },
  {
   "cell_type": "code",
   "execution_count": 26,
   "metadata": {},
   "outputs": [
    {
     "name": "stdout",
     "output_type": "stream",
     "text": [
      "206\n",
      "the file contents are : India is a great country . \n",
      "Jammu and Kashmir is an Jammu integral part of India now.\n",
      "Karnataka is one of the states of India.\n",
      "Bangalore the is the capital of Karnataka.\n",
      "Jammu Delhi is the capital of india\n",
      "\n",
      "The first 20 characters of the file are: India is a great cou\n"
     ]
    }
   ],
   "source": [
    "#read() function reads all the contents of the file and stores it in a single variable, here read and write functions\n",
    "#are not recommended as they can cause stack overflow and plus we nned to search for the newline character to navigate to the next line.\n",
    "#use read() only when the contents of the file are very less.\n",
    "try:\n",
    "    fhand=open(\"new.txt\",\"r\")\n",
    "except:\n",
    "    print(\"File cannot be opened\")\n",
    "    exit()\n",
    "s=fhand.read        \n",
    "print(len(s)) #counting the number of characters\n",
    "print(\"the file contents are :\",s)\n",
    "print(\"The first 20 characters of the file are:\",s[:20])\n",
    "fhand.close()   "
   ]
  },
  {
   "cell_type": "code",
   "execution_count": 3,
   "metadata": {},
   "outputs": [
    {
     "name": "stdout",
     "output_type": "stream",
     "text": [
      "file opened successfully\n",
      "final dictionary : {'India': 2, 'is': 5, 'a': 1, 'great': 1, 'country.': 1, '\\n': 1, 'Jammu': 3, 'and': 1, 'Kashmir': 1, 'an': 1, 'integral': 1, 'part': 1, 'of': 5, 'now,\\n': 1, 'Karnataka': 1, 'one': 1, 'the': 4, 'states': 1, 'India?\\n': 1, 'Bangalore': 1, 'capital': 2, 'Karnataka\"\\n': 1, 'Delhi': 1, \"india'\\n\": 1}\n"
     ]
    }
   ],
   "source": [
    "#perform word count on the contents of the file\n",
    "try:\n",
    "    fhand=open('new.txt','r')\n",
    "    #print(fhand)\n",
    "    print(\"file opened successfully\")\n",
    "except:\n",
    "    print(\"file cannot be opened\")\n",
    "    exit()\n",
    "count=0   \n",
    "dic={}\n",
    "\n",
    "for line in fhand:\n",
    "    length=len(line)\n",
    "    ls=line.split(\" \")\n",
    "    \n",
    "    for j in ls:\n",
    "        dic[j]=dic.get(j,0)+1\n",
    "print(\"final dictionary :\",dic)\n",
    "\n",
    " "
   ]
  },
  {
   "cell_type": "code",
   "execution_count": 12,
   "metadata": {},
   "outputs": [
    {
     "name": "stdout",
     "output_type": "stream",
     "text": [
      "file opened successfully\n",
      "['Jammu', 'Delhi', 'is', 'the', 'capital', 'of', \"india'\\n\"]\n"
     ]
    }
   ],
   "source": [
    "#perform word count on the contents of the file\n",
    "try:\n",
    "    fhand=open('new.txt','r')\n",
    "    #print(fhand)\n",
    "    print(\"file opened successfully\")\n",
    "except:\n",
    "    print(\"file cannot be opened\")\n",
    "    exit()\n",
    "count=0   \n",
    "dic={}\n",
    "\n",
    "for line in fhand:\n",
    "    ls=line.split(\" \")\n",
    "print(ls)\n",
    "\n",
    "#for line in fhand:\n",
    "#    length=len(line)\n",
    "#    ls=line.split(\" \")\n",
    "    \n",
    "#for j in ls:\n",
    "#    dic[j]=dic.get(j,0)+1\n",
    "#print(\"final dictionary :\",dic)\n",
    "\n",
    "#print(dic)   "
   ]
  },
  {
   "cell_type": "code",
   "execution_count": null,
   "metadata": {},
   "outputs": [],
   "source": []
  }
 ],
 "metadata": {
  "kernelspec": {
   "display_name": "Python 3",
   "language": "python",
   "name": "python3"
  },
  "language_info": {
   "codemirror_mode": {
    "name": "ipython",
    "version": 3
   },
   "file_extension": ".py",
   "mimetype": "text/x-python",
   "name": "python",
   "nbconvert_exporter": "python",
   "pygments_lexer": "ipython3",
   "version": "3.7.3"
  }
 },
 "nbformat": 4,
 "nbformat_minor": 2
}
